{
  "nbformat": 4,
  "nbformat_minor": 0,
  "metadata": {
    "colab": {
      "provenance": []
    },
    "kernelspec": {
      "name": "python3",
      "display_name": "Python 3"
    },
    "language_info": {
      "name": "python"
    }
  },
  "cells": [
    {
      "cell_type": "markdown",
      "source": [
        "# **DATA TYPE AND STRUCTURES**"
      ],
      "metadata": {
        "id": "TMqWxJDhw6pS"
      }
    },
    {
      "cell_type": "markdown",
      "source": [
        "# **QUESTIONS**"
      ],
      "metadata": {
        "id": "TlxH4SrVwy4R"
      }
    },
    {
      "cell_type": "markdown",
      "source": [
        "\n",
        "1)What are data structures, and why are they important?\n",
        "\n",
        "2) Explain the difference between mutable and immutable data types with examples?\n",
        "\n",
        "3) What are the main differences between lists and tuples in Python?\n",
        "\n",
        "4) Describe how dictionaries store data?\n",
        "\n",
        "5) Why might you use a set instead of a list in Python?\n",
        "\n",
        "6) What is a string in Python, and how is it different from a list?\n",
        "\n",
        "7) How do tuples ensure data integrity in Python?\n",
        "\n",
        "8) What is a hash table, and how does it relate to dictionaries in Python?\n",
        "\n",
        "9) Can lists contain different data types in Python?\n",
        "\n",
        "10) Explain why strings are immutable in Python?\n",
        "\n",
        "11) What advantages do dictionaries offer over lists for certain tasks?\n",
        "\n",
        "12) Describe a scenario where using a tuple would be preferable over a list?\n",
        "\n",
        "13) How do sets handle duplicate values in Python?\n",
        "\n",
        "14) How does the “in” keyword work differently for lists and dictionaries?\n",
        "\n",
        "15) Can you modify the elements of a tuple? Explain why or why not?\n",
        "\n",
        "16) What is a nested dictionary, and give an example of its use case?\n",
        "\n",
        "17) Describe the time complexity of accessing elements in a dictionary?\n",
        "\n",
        "18) In what situations are lists preferred over dictionaries?\n",
        "\n",
        "19) Why are dictionaries considered unordered, and how does that affect data retrieval?\n",
        "\n",
        "20) Explain the difference between a list and a dictionary in terms of data retrieval"
      ],
      "metadata": {
        "id": "Bok2Ob6KiElf"
      }
    },
    {
      "cell_type": "markdown",
      "source": [
        "# **ANSWERS**"
      ],
      "metadata": {
        "id": "jHgWPqflrk2w"
      }
    },
    {
      "cell_type": "markdown",
      "source": [
        "1) Data structures are ways of organizing and storing data so that operations on the data can be performed efficiently. They are important because they enable efficient data management, retrieval, and manipulation, which are essential for developing high-performance software applications. Examples include lists, stacks, queues, trees, and hash tables."
      ],
      "metadata": {
        "id": "Y6uGA79_rtaM"
      }
    },
    {
      "cell_type": "markdown",
      "source": [],
      "metadata": {
        "id": "MtiebhH5rwaD"
      }
    },
    {
      "cell_type": "markdown",
      "source": [
        "2)\n",
        "\n",
        "-Mutable data types can be changed after creation. Example: lists, dictionaries,\n",
        "sets.\n",
        "\n",
        "-Immutable data types cannot be changed after creation. Example: tuples,strings, integers."
      ],
      "metadata": {
        "id": "3V-8SfoGrypw"
      }
    },
    {
      "cell_type": "code",
      "source": [
        "my_list = [1, 2, 3]\n",
        "my_list[0] = 10  # Mutates the list\n"
      ],
      "metadata": {
        "id": "7YJLilU3sQAy"
      },
      "execution_count": 1,
      "outputs": []
    },
    {
      "cell_type": "code",
      "source": [
        "my_tuple = (1, 2, 3)\n",
        "my_tuple[0] = 10  # This will cause an error\n"
      ],
      "metadata": {
        "colab": {
          "base_uri": "https://localhost:8080/",
          "height": 159
        },
        "id": "eTXjQyLisVnK",
        "outputId": "d128eb32-b956-4e10-f612-5d8cf5b09ed6"
      },
      "execution_count": 2,
      "outputs": [
        {
          "output_type": "error",
          "ename": "TypeError",
          "evalue": "'tuple' object does not support item assignment",
          "traceback": [
            "\u001b[0;31m---------------------------------------------------------------------------\u001b[0m",
            "\u001b[0;31mTypeError\u001b[0m                                 Traceback (most recent call last)",
            "\u001b[0;32m<ipython-input-2-95363eb8f6d4>\u001b[0m in \u001b[0;36m<cell line: 0>\u001b[0;34m()\u001b[0m\n\u001b[1;32m      1\u001b[0m \u001b[0mmy_tuple\u001b[0m \u001b[0;34m=\u001b[0m \u001b[0;34m(\u001b[0m\u001b[0;36m1\u001b[0m\u001b[0;34m,\u001b[0m \u001b[0;36m2\u001b[0m\u001b[0;34m,\u001b[0m \u001b[0;36m3\u001b[0m\u001b[0;34m)\u001b[0m\u001b[0;34m\u001b[0m\u001b[0;34m\u001b[0m\u001b[0m\n\u001b[0;32m----> 2\u001b[0;31m \u001b[0mmy_tuple\u001b[0m\u001b[0;34m[\u001b[0m\u001b[0;36m0\u001b[0m\u001b[0;34m]\u001b[0m \u001b[0;34m=\u001b[0m \u001b[0;36m10\u001b[0m  \u001b[0;31m# This will cause an error\u001b[0m\u001b[0;34m\u001b[0m\u001b[0;34m\u001b[0m\u001b[0m\n\u001b[0m",
            "\u001b[0;31mTypeError\u001b[0m: 'tuple' object does not support item assignment"
          ]
        }
      ]
    },
    {
      "cell_type": "markdown",
      "source": [
        "3)\n",
        "\n",
        "- Lists are mutable, while tuples are immutable.\n",
        "\n",
        "- Lists have higher memory overhead but are more flexible.\n",
        "\n",
        "- Tuples are faster and better for fixed data."
      ],
      "metadata": {
        "id": "Hrl8vn-Uscu4"
      }
    },
    {
      "cell_type": "markdown",
      "source": [
        "4)Dictionaries store data as key-value pairs using a hash table internally. Each key is hashed to determine its storage location, allowing for fast retrieval."
      ],
      "metadata": {
        "id": "TCdcKPcsslFa"
      }
    },
    {
      "cell_type": "markdown",
      "source": [
        "5)\n",
        "\n",
        "- Sets automatically remove duplicates.\n",
        "\n",
        "- They provide faster lookup times (O(1) on average).\n",
        "\n",
        "- Ideal for membership tests (if item in set)."
      ],
      "metadata": {
        "id": "tauFGVnasqmB"
      }
    },
    {
      "cell_type": "markdown",
      "source": [
        "6)\n",
        "- A string is an immutable sequence of characters.\n",
        "\n",
        "- A list is a mutable sequence that can store different data types.\n",
        "\n",
        "- Strings cannot be modified directly, whereas lists can.\n"
      ],
      "metadata": {
        "id": "XOUOJDHEtCyH"
      }
    },
    {
      "cell_type": "markdown",
      "source": [
        "7)\n",
        "Since tuples are immutable, their contents cannot be modified after creation, ensuring that data remains constant and unchanged."
      ],
      "metadata": {
        "id": "i51-k_QJtN7n"
      }
    },
    {
      "cell_type": "markdown",
      "source": [
        "8)\n",
        "Since tuples are immutable, their contents cannot be modified after creation, ensuring that data remains constant and unchanged."
      ],
      "metadata": {
        "id": "tQ5XRUictS1q"
      }
    },
    {
      "cell_type": "markdown",
      "source": [
        "9)\n",
        "Yes, Python lists can store multiple data types:"
      ],
      "metadata": {
        "id": "Cz0AMPf_tXSC"
      }
    },
    {
      "cell_type": "code",
      "source": [
        "my_list = [1, \"hello\", 3.14, [4, 5]]\n"
      ],
      "metadata": {
        "id": "PoVIi0HTtaPb"
      },
      "execution_count": 3,
      "outputs": []
    },
    {
      "cell_type": "markdown",
      "source": [
        "10)\n",
        "Strings are immutable for performance reasons and to prevent unintended modifications, which makes them safe for hashing (e.g., as dictionary keys)."
      ],
      "metadata": {
        "id": "kbXQmVUqtc6F"
      }
    },
    {
      "cell_type": "markdown",
      "source": [
        "11)\n",
        "- Fast lookups: O(1) average time complexity for accessing values.\n",
        "\n",
        "- Key-value pairing allows better organization.\n",
        "\n",
        "- No need for searching by index."
      ],
      "metadata": {
        "id": "JFXYWul3t24o"
      }
    },
    {
      "cell_type": "markdown",
      "source": [
        "12)\n",
        "When you need fixed, unchangeable data, such as coordinates:\n"
      ],
      "metadata": {
        "id": "QNfPYRNIuEQj"
      }
    },
    {
      "cell_type": "code",
      "source": [
        "employee_id= (5675, 7896)"
      ],
      "metadata": {
        "id": "4Sfm4rtGuJ_v"
      },
      "execution_count": 5,
      "outputs": []
    },
    {
      "cell_type": "markdown",
      "source": [
        "13)\n",
        "Sets automatically remove duplicates:"
      ],
      "metadata": {
        "id": "49PsBP9Iub85"
      }
    },
    {
      "cell_type": "code",
      "source": [
        "my_set = {1, 2, 2, 3}  # Becomes {1, 2, 3}\n"
      ],
      "metadata": {
        "id": "Qi3umAZDunR1"
      },
      "execution_count": 6,
      "outputs": []
    },
    {
      "cell_type": "markdown",
      "source": [
        "14)\n",
        "- In lists, it checks each element sequentially (O(n)).\n",
        "- In dictionaries, it checks only keys using a hash lookup (O(1)).\n"
      ],
      "metadata": {
        "id": "I6y9C6Asup2N"
      }
    },
    {
      "cell_type": "markdown",
      "source": [
        "15)\n",
        "No, tuples are immutable, meaning their contents cannot be changed after creation."
      ],
      "metadata": {
        "id": "_TZp-PLHuxpn"
      }
    },
    {
      "cell_type": "markdown",
      "source": [
        "16)\n",
        "A dictionary inside another dictionary. Example use case: storing student records"
      ],
      "metadata": {
        "id": "w1AVtVm6u3LP"
      }
    },
    {
      "cell_type": "code",
      "source": [
        "students = {\n",
        "    \"Nikita\": {\"age\": 24, \"grade\": \"A\"},\n",
        "    \"Nitish\": {\"age\": 23, \"grade\": \"B\"}\n",
        "}\n"
      ],
      "metadata": {
        "id": "Wd4O6xS3u9Ov"
      },
      "execution_count": 8,
      "outputs": []
    },
    {
      "cell_type": "markdown",
      "source": [
        "17)\n",
        "- Average case: O(1) due to hash table implementation.\n",
        "- Worst case: O(n) (if many hash collisions occur)."
      ],
      "metadata": {
        "id": "4zfpzkzlvI7K"
      }
    },
    {
      "cell_type": "markdown",
      "source": [
        "18)\n",
        "- When order matters (dictionaries before Python 3.7 were unordered).\n",
        "- When data does not require key-value mapping.\n",
        "- When sequential operations are needed."
      ],
      "metadata": {
        "id": "WON6CVxhvPIg"
      }
    },
    {
      "cell_type": "markdown",
      "source": [
        "19)\n",
        "- Until Python 3.6, dictionaries did not maintain insertion order.\n",
        "- From Python 3.7 onwards, dictionaries preserve order but still do not allow indexing like lists."
      ],
      "metadata": {
        "id": "r6J3bSGovYGa"
      }
    },
    {
      "cell_type": "markdown",
      "source": [
        "20)\n",
        "- Lists use index-based access (O(1)).\n",
        "- Dictionaries use key-based access (O(1) average)."
      ],
      "metadata": {
        "id": "cB39HOWSvffD"
      }
    },
    {
      "cell_type": "markdown",
      "source": [
        "# **PRACTICALS**"
      ],
      "metadata": {
        "id": "HVvuyhxqvmMZ"
      }
    },
    {
      "cell_type": "markdown",
      "source": [
        "# **QUESTIONS**"
      ],
      "metadata": {
        "id": "vQ9RGohVwrkv"
      }
    },
    {
      "cell_type": "markdown",
      "source": [
        "1. Write a code to create a string with your name and print it\n",
        "2. Write a code to find the length of the string \"Hello World\"\n",
        "3. Write a code to slice the first 3 characters from the string \"Python Programming\"\n",
        "4. Write a code to convert the string \"hello\" to uppercase\n",
        "5. Write a code to replace the word \"apple\" with \"orange\" in the string \"I like apple\"\n",
        "6. Write a code to create a list with numbers 1 to 5 and print it\n",
        "7. Write a code to append the number 10 to the list [1, 2, 3, 4]\n",
        "8. Write a code to remove the number 3 from the list [1, 2, 3, 4, 5]\n",
        "9. Write a code to access the second element in the list ['a', 'b', 'c', 'd']\n",
        "10. Write a code to reverse the list [10, 20, 30, 40, 50].\n",
        "11. Write a code to create a tuple with the elements 100, 200, 300 and print it.\n",
        "\n",
        "12. Write a code to access the second-to-last element of the tuple ('red', 'green', 'blue', 'yellow').\n",
        "\n",
        "13. Write a code to find the minimum number in the tuple (10, 20, 5, 15).\n",
        "\n",
        "14. Write a code to find the index of the element \"cat\" in the tuple ('dog', 'cat', 'rabbit').\n",
        "\n",
        "15. Write a code to create a tuple containing three different fruits and check if \"kiwi\" is in it.\n",
        "\n",
        "16. Write a code to create a set with the elements 'a', 'b', 'c' and print it.\n",
        "\n",
        "17. Write a code to clear all elements from the set {1, 2, 3, 4, 5}.\n",
        "\n",
        "18. Write a code to remove the element 4 from the set {1, 2, 3, 4}.\n",
        "\n",
        "19. Write a code to find the union of two sets {1, 2, 3} and {3, 4, 5}.\n",
        "\n",
        "20. Write a code to find the intersection of two sets {1, 2, 3} and {2, 3, 4}.\n",
        "\n",
        "21. Write a code to create a dictionary with the keys \"name\", \"age\", and \"city\", and print it.\n",
        "\n",
        "22. Write a code to add a new key-value pair \"country\": \"USA\" to the dictionary {'name': 'John', 'age': 25}.\n",
        "\n",
        "23. Write a code to access the value associated with the key \"name\" in the dictionary {'name': 'Alice', 'age': 30}.\n",
        "\n",
        "24. Write a code to remove the key \"age\" from the dictionary {'name': 'Bob', 'age': 22, 'city': 'New York'}.\n",
        "\n",
        "25. Write a code to check if the key \"city\" exists in the dictionary {'name': 'Alice', 'city': 'Paris'}.\n",
        "\n",
        "26. Write a code to create a list, a tuple, and a dictionary, and print them all.\n",
        "\n",
        "27. Write a code to create a list of 5 random numbers between 1 and 100, sort it in ascending order, and print the\n",
        "result.(replaced)\n",
        "\n",
        "28. Write a code to create a list with strings and print the element at the third index.\n",
        "\n",
        "29. Write a code to combine two dictionaries into one and print the result.\n",
        "\n",
        "30. Write a code to convert a list of strings into a set."
      ],
      "metadata": {
        "id": "BUgtlEy0vwqM"
      }
    },
    {
      "cell_type": "markdown",
      "source": [
        "# **ANSWERS**"
      ],
      "metadata": {
        "id": "aXVmdiqVwkje"
      }
    },
    {
      "cell_type": "code",
      "source": [
        "#Here are the Python code snippets for each of your requests:\n",
        "\n",
        "# 1. Create a string with your name and print it\n",
        "my_name = \"John Doe\"\n",
        "print(my_name)\n",
        "\n",
        "# 2. Find the length of the string \"Hello World\"\n",
        "print(len(\"Hello World\"))\n",
        "\n",
        "# 3. Slice the first 3 characters from the string \"Python Programming\"\n",
        "print(\"Python Programming\"[:3])\n",
        "\n",
        "# 4. Convert the string \"hello\" to uppercase\n",
        "print(\"hello\".upper())\n",
        "\n",
        "# 5. Replace \"apple\" with \"orange\" in the string \"I like apple\"\n",
        "print(\"I like apple\".replace(\"apple\", \"orange\"))\n",
        "\n",
        "# 6. Create a list with numbers 1 to 5 and print it\n",
        "numbers = [1, 2, 3, 4, 5]\n",
        "print(numbers)\n",
        "\n",
        "# 7. Append the number 10 to the list [1, 2, 3, 4]\n",
        "numbers2 = [1, 2, 3, 4]\n",
        "numbers2.append(10)\n",
        "print(numbers2)\n",
        "\n",
        "# 8. Remove the number 3 from the list [1, 2, 3, 4, 5]\n",
        "numbers3 = [1, 2, 3, 4, 5]\n",
        "numbers3.remove(3)\n",
        "print(numbers3)\n",
        "\n",
        "# 9. Access the second element in the list ['a', 'b', 'c', 'd']\n",
        "letters = ['a', 'b', 'c', 'd']\n",
        "print(letters[1])\n",
        "\n",
        "# 10. Reverse the list [10, 20, 30, 40, 50]\n",
        "reversed_list = [10, 20, 30, 40, 50][::-1]\n",
        "print(reversed_list)\n",
        "\n",
        "# 11. Create a tuple with the elements 100, 200, 300 and print it\n",
        "my_tuple = (100, 200, 300)\n",
        "print(my_tuple)\n",
        "\n",
        "# 12. Access the second-to-last element of the tuple ('red', 'green', 'blue', 'yellow')\n",
        "colors = ('red', 'green', 'blue', 'yellow')\n",
        "print(colors[-2])\n",
        "\n",
        "# 13. Find the minimum number in the tuple (10, 20, 5, 15)\n",
        "print(min((10, 20, 5, 15)))\n",
        "\n",
        "# 14. Find the index of the element \"cat\" in the tuple ('dog', 'cat', 'rabbit')\n",
        "animals = ('dog', 'cat', 'rabbit')\n",
        "print(animals.index(\"cat\"))\n",
        "\n",
        "# 15. Create a tuple containing three different fruits and check if \"kiwi\" is in it\n",
        "fruits = (\"apple\", \"banana\", \"cherry\")\n",
        "print(\"kiwi\" in fruits)\n",
        "\n",
        "# 16. Create a set with the elements 'a', 'b', 'c' and print it\n",
        "my_set = {'a', 'b', 'c'}\n",
        "print(my_set)\n",
        "\n",
        "# 17. Clear all elements from the set {1, 2, 3, 4, 5}\n",
        "my_set2 = {1, 2, 3, 4, 5}\n",
        "my_set2.clear()\n",
        "print(my_set2)\n",
        "\n",
        "# 18. Remove the element 4 from the set {1, 2, 3, 4}\n",
        "my_set3 = {1, 2, 3, 4}\n",
        "my_set3.remove(4)\n",
        "print(my_set3)\n",
        "\n",
        "# 19. Find the union of two sets {1, 2, 3} and {3, 4, 5}\n",
        "set1 = {1, 2, 3}\n",
        "set2 = {3, 4, 5}\n",
        "print(set1.union(set2))\n",
        "\n",
        "# 20. Find the intersection of two sets {1, 2, 3} and {2, 3, 4}\n",
        "print(set1.intersection(set2))\n",
        "\n",
        "# 21. Create a dictionary with the keys \"name\", \"age\", and \"city\", and print it\n",
        "person = {\"name\": \"Nikita\", \"age\": 24, \"city\": \"Kolkata\"}\n",
        "print(person)\n",
        "\n",
        "# 22. Add a new key-value pair \"country\": \"USA\" to the dictionary {'name': 'John', 'age': 25}\n",
        "person2 = {'name': 'Nikita', 'age': 24}\n",
        "person2[\"country\"] = \"USA\"\n",
        "print(person2)\n",
        "\n",
        "# 23. Access the value associated with the key \"name\" in the dictionary {'name': 'Alice', 'age': 30}\n",
        "person3 = {'name': 'Alice', 'age': 30}\n",
        "print(person3[\"name\"])\n",
        "\n",
        "# 24. Remove the key \"age\" from the dictionary {'name': 'Bob', 'age': 22, 'city': 'New York'}\n",
        "person4 = {'name': 'Bob', 'age': 22, 'city': 'New York'}\n",
        "del person4[\"age\"]\n",
        "print(person4)\n",
        "\n",
        "# 25. Check if the key \"city\" exists in the dictionary {'name': 'Alice', 'city': 'Paris'}\n",
        "person5 = {'name': 'Alice', 'city': 'Paris'}\n",
        "print(\"city\" in person5)\n",
        "\n",
        "# 26. Create a list, a tuple, and a dictionary, and print them all\n",
        "my_list = [1, 2, 3]\n",
        "my_tuple = (4, 5, 6)\n",
        "my_dict = {\"a\": 7, \"b\": 8}\n",
        "print(my_list, my_tuple, my_dict)\n",
        "\n",
        "# 27. Create a list of 5 random numbers between 1 and 100, sort it in ascending order, and print the result\n",
        "import random\n",
        "random_list = [random.randint(1, 100) for _ in range(5)]\n",
        "random_list.sort()\n",
        "print(random_list)\n",
        "\n",
        "# 28. Create a list with strings and print the element at the third index\n",
        "string_list = [\"apple\", \"banana\", \"cherry\", \"date\", \"elderberry\"]\n",
        "print(string_list[3])\n",
        "\n",
        "# 29. Combine two dictionaries into one and print the result\n",
        "dict1 = {\"name\": \"John\", \"age\": 25}\n",
        "dict2 = {\"city\": \"New York\", \"country\": \"USA\"}\n",
        "combined_dict = {**dict1, **dict2}\n",
        "print(combined_dict)\n",
        "\n",
        "# 30. Convert a list of strings into a set\n",
        "string_list2 = [\"apple\", \"banana\", \"cherry\", \"apple\"]\n",
        "string_set = set(string_list2)\n",
        "print(string_set)\n"
      ],
      "metadata": {
        "colab": {
          "base_uri": "https://localhost:8080/"
        },
        "id": "h1rAFXx8xAbD",
        "outputId": "50da59f7-6bc4-48e1-ef27-5b76ad146eb1"
      },
      "execution_count": 1,
      "outputs": [
        {
          "output_type": "stream",
          "name": "stdout",
          "text": [
            "John Doe\n",
            "11\n",
            "Pyt\n",
            "HELLO\n",
            "I like orange\n",
            "[1, 2, 3, 4, 5]\n",
            "[1, 2, 3, 4, 10]\n",
            "[1, 2, 4, 5]\n",
            "b\n",
            "[50, 40, 30, 20, 10]\n",
            "(100, 200, 300)\n",
            "blue\n",
            "5\n",
            "1\n",
            "False\n",
            "{'b', 'c', 'a'}\n",
            "set()\n",
            "{1, 2, 3}\n",
            "{1, 2, 3, 4, 5}\n",
            "{3}\n",
            "{'name': 'Nikita', 'age': 24, 'city': 'Kolkata'}\n",
            "{'name': 'Nikita', 'age': 24, 'country': 'USA'}\n",
            "Alice\n",
            "{'name': 'Bob', 'city': 'New York'}\n",
            "True\n",
            "[1, 2, 3] (4, 5, 6) {'a': 7, 'b': 8}\n",
            "[37, 47, 67, 70, 81]\n",
            "date\n",
            "{'name': 'John', 'age': 25, 'city': 'New York', 'country': 'USA'}\n",
            "{'apple', 'banana', 'cherry'}\n"
          ]
        }
      ]
    }
  ]
}