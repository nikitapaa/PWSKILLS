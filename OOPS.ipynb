{
  "nbformat": 4,
  "nbformat_minor": 0,
  "metadata": {
    "colab": {
      "provenance": []
    },
    "kernelspec": {
      "name": "python3",
      "display_name": "Python 3"
    },
    "language_info": {
      "name": "python"
    }
  },
  "cells": [
    {
      "cell_type": "markdown",
      "source": [
        "QUESTION ANSWERS\n"
      ],
      "metadata": {
        "id": "877HLOi5Im16"
      }
    },
    {
      "cell_type": "markdown",
      "source": [
        "1. **What is Object-Oriented Programming (OOP)?**  \n",
        "A programming paradigm that organizes code using objects and classes, focusing on encapsulation, inheritance, and polymorphism.\n",
        "\n",
        "2. **What is a class in OOP?**  \n",
        "A blueprint for creating objects, defining their properties (attributes) and behaviors (methods).\n",
        "\n",
        "3. **What is an object in OOP?**  \n",
        "An instance of a class with its own state (attributes) and behavior (methods).\n",
        "\n",
        "4. **What is the difference between abstraction and encapsulation?**  \n",
        "- **Abstraction:** Hides complexity, showing only essential details.  \n",
        "- **Encapsulation:** Hides data and restricts access using methods.\n",
        "\n",
        "5. **What are dunder methods in Python?**  \n",
        "Special methods with double underscores (e.g., `__init__`, `__str__`) that enable operator overloading and custom behavior.\n",
        "\n",
        "6. **Explain the concept of inheritance in OOP.**  \n",
        "Creating a new class from an existing one to reuse and extend its properties and methods.\n",
        "\n",
        "7. **What is polymorphism in OOP?**  \n",
        "Using a common interface to handle different data types or classes, enabling flexibility.\n",
        "\n",
        "8. **How is encapsulation achieved in Python?**  \n",
        "Using access modifiers:\n",
        "- Public: Accessible everywhere (`self.attribute`).  \n",
        "- Protected: Suggested for internal use (`self._attribute`).  \n",
        "- Private: Restricted access (`self.__attribute`).\n",
        "\n",
        "9. **What is a constructor in Python?**  \n",
        "The `__init__` method used to initialize new objects of a class.\n",
        "\n",
        "10. **What are class and static methods in Python?**  \n",
        "- **Class Method (`@classmethod`):** Uses `cls` to access class variables.  \n",
        "- **Static Method (`@staticmethod`):** Independent of class or instance, acts like a regular function inside a class.\n",
        "\n",
        "11. **What is method overloading in Python?**  \n",
        "Not natively supported. Achieved using default arguments or conditional logic.\n",
        "\n",
        "12. **What is method overriding in OOP?**  \n",
        "Redefining a method in a subclass that exists in the parent class for customized behavior.\n",
        "\n",
        "13. **What is a property decorator in Python?**  \n",
        "The `@property` decorator allows accessing a method like an attribute, ensuring controlled access.\n",
        "\n",
        "14. **Why is polymorphism important in OOP?**  \n",
        "It simplifies code and enhances flexibility by using a single interface for multiple data types.\n",
        "\n",
        "15. **What is an abstract class in Python?**  \n",
        "A class that cannot be instantiated and contains one or more abstract methods, defined using the `abc` module.\n",
        "\n",
        "16. **What are the advantages of OOP?**  \n",
        "Code reusability, modularity, easier maintenance, scalability, and problem-solving through abstraction.\n",
        "\n",
        "17. **What is the difference between a class variable and an instance variable?**  \n",
        "- **Class Variable:** Shared among all instances of the class.  \n",
        "- **Instance Variable:** Unique to each object instance.\n",
        "\n",
        "18. **What is multiple inheritance in Python?**  \n",
        "When a class inherits from more than one base class, gaining features from all.\n",
        "\n",
        "19. **Explain the purpose of `__repr__` method in Python.**  \n",
        "Returns an unambiguous, developer-friendly string representation of an object, often used for debugging.\n",
        "\n",
        "20. **What is the significance of the `super()` function in Python?**  \n",
        "Calls methods from a parent class, useful for method overriding and multiple inheritance.\n",
        "\n",
        "21. **What is the significance of the `__del__` method in Python?**  \n",
        "A destructor method called when an object is about to be destroyed, used to release resources.\n",
        "\n",
        "22. **What is the difference between `@staticmethod` and `@classmethod` in Python?**  \n",
        "- **Static Method:** No access to the class or instance.  \n",
        "- **Class Method:** Has access to the class via `cls`.\n",
        "\n",
        "23. **How does polymorphism work in Python with inheritance?**  \n",
        "Through method overriding, allowing different implementations of the same method in subclasses.\n",
        "\n",
        "24. **What is method chaining in Python OOP?**  \n",
        "Calling multiple methods on an object in a single line, improving readability.\n",
        "\n",
        "25. **What is the purpose of the `__call__` method in Python?**  \n",
        "Makes an object callable like a function, enabling functional-like behavior."
      ],
      "metadata": {
        "id": "EREnki1IMOK6"
      }
    },
    {
      "cell_type": "markdown",
      "source": [
        "PRACTICAL"
      ],
      "metadata": {
        "id": "mPeTn0shMYkX"
      }
    },
    {
      "cell_type": "markdown",
      "source": [
        "1. Create a parent class Animal with a method speak() that prints a generic message. Create a child class Dog that overrides the speak() method to print \"Barki\"."
      ],
      "metadata": {
        "id": "Rw1fchAtQrkV"
      }
    },
    {
      "cell_type": "code",
      "source": [
        "class Animal:\n",
        "    def speak(self):\n",
        "        print(\"This animal makes a sound.\")\n",
        "\n",
        "class Dog(Animal):\n",
        "    def speak(self):\n",
        "        print(\"Bark!\")\n",
        "dog = Dog()\n",
        "dog.speak()\n",
        "\n"
      ],
      "metadata": {
        "colab": {
          "base_uri": "https://localhost:8080/"
        },
        "id": "8bWm39lwQtAw",
        "outputId": "d3933e5c-b2b0-4b5b-ea4d-166625d1b9b8"
      },
      "execution_count": 3,
      "outputs": [
        {
          "output_type": "stream",
          "name": "stdout",
          "text": [
            "Bark!\n"
          ]
        }
      ]
    },
    {
      "cell_type": "markdown",
      "source": [
        "2. Write a program to create an abstract class Shape with a method area(). Derive classes Circle and Rectangle from it and implement the area() method in both\n"
      ],
      "metadata": {
        "id": "AKoACApqREnk"
      }
    },
    {
      "cell_type": "code",
      "source": [
        "from abc import ABC, abstractmethod\n",
        "\n",
        "class Shape(ABC):\n",
        "    @abstractmethod\n",
        "    def area(self):\n",
        "        pass\n",
        "\n",
        "class Circle(Shape):\n",
        "    def __init__(self, radius):\n",
        "        self.radius = radius\n",
        "\n",
        "    def area(self):\n",
        "        return 3.14 * self.radius ** 2\n",
        "\n",
        "class Rectangle(Shape):\n",
        "    def __init__(self, length, width):\n",
        "        self.length = length\n",
        "        self.width = width\n",
        "\n",
        "    def area(self):\n",
        "        return self.length * self.width\n",
        "\n",
        "circle = Circle(5)\n",
        "print(circle.area())\n",
        "\n",
        "rectangle = Rectangle(4, 6)\n",
        "print(rectangle.area())\n"
      ],
      "metadata": {
        "colab": {
          "base_uri": "https://localhost:8080/"
        },
        "id": "NKjPyUyyRImz",
        "outputId": "e7f88b4e-d3f0-4771-d1ee-643e8e69895b"
      },
      "execution_count": 4,
      "outputs": [
        {
          "output_type": "stream",
          "name": "stdout",
          "text": [
            "78.5\n",
            "24\n"
          ]
        }
      ]
    },
    {
      "cell_type": "markdown",
      "source": [
        "3. Implement a multi-level inheritance scenario where a class Vehicle has an attribute type. Derive a class Car and further derive-p class Electric Car that adds a battery attribute.\n"
      ],
      "metadata": {
        "id": "cfDsj3h1R3We"
      }
    },
    {
      "cell_type": "code",
      "source": [
        "class Vehicle:\n",
        "    def __init__(self, type):\n",
        "        self.type = type\n",
        "\n",
        "class Car(Vehicle):\n",
        "    def __init__(self, type, brand):\n",
        "        super().__init__(type)\n",
        "        self.brand = brand\n",
        "\n",
        "class ElectricCar(Car):\n",
        "    def __init__(self, type, brand, battery):\n",
        "        super().__init__(type, brand)\n",
        "        self.battery = battery\n",
        "\n",
        "tesla = ElectricCar(\"Electric\", \"Tesla\", \"100 kWh\")\n",
        "print(tesla.type, tesla.brand, tesla.battery)\n"
      ],
      "metadata": {
        "colab": {
          "base_uri": "https://localhost:8080/"
        },
        "id": "sD2jBrJ2SKSM",
        "outputId": "c90b991d-0bed-4602-e895-2c1ebfcada30"
      },
      "execution_count": 5,
      "outputs": [
        {
          "output_type": "stream",
          "name": "stdout",
          "text": [
            "Electric Tesla 100 kWh\n"
          ]
        }
      ]
    },
    {
      "cell_type": "markdown",
      "source": [
        "4. Demonstrate polymorphism by creating a base class Bird with a method fly(). Create two derived classes Sparrow and Penguin that override the fly() method"
      ],
      "metadata": {
        "id": "wBGujmhAWFC8"
      }
    },
    {
      "cell_type": "code",
      "source": [
        "class Bird:\n",
        "    def fly(self):\n",
        "        print(\"Some birds can fly.\")\n",
        "\n",
        "class Sparrow(Bird):\n",
        "    def fly(self):\n",
        "        print(\"Sparrow flies high.\")\n",
        "\n",
        "class Penguin(Bird):\n",
        "    def fly(self):\n",
        "        print(\"Penguins can't fly.\")\n",
        "\n",
        "birds = [Sparrow(), Penguin()]\n",
        "for bird in birds:\n",
        "    bird.fly()\n"
      ],
      "metadata": {
        "colab": {
          "base_uri": "https://localhost:8080/"
        },
        "id": "he1W_mOkWK5w",
        "outputId": "96e578e4-2cad-42d2-a0ab-aeb9b7600e9b"
      },
      "execution_count": 6,
      "outputs": [
        {
          "output_type": "stream",
          "name": "stdout",
          "text": [
            "Sparrow flies high.\n",
            "Penguins can't fly.\n"
          ]
        }
      ]
    },
    {
      "cell_type": "markdown",
      "source": [
        "5. Write a program to demonstrate encapsulation by creating a class BankAccount with private attributes balance and methods to deposit, withdraw, and check balance,\n"
      ],
      "metadata": {
        "id": "e8sDH5GGWvxG"
      }
    },
    {
      "cell_type": "code",
      "source": [
        "class BankAccount:\n",
        "    def __init__(self, balance=0):\n",
        "        self.__balance = balance\n",
        "\n",
        "    def deposit(self, amount):\n",
        "        self.__balance += amount\n",
        "\n",
        "    def withdraw(self, amount):\n",
        "        if amount <= self.__balance:\n",
        "            self.__balance -= amount\n",
        "        else:\n",
        "            print(\"Insufficient funds\")\n",
        "\n",
        "    def get_balance(self):\n",
        "        return self.__balance\n",
        "\n",
        "account = BankAccount(1000)\n",
        "account.deposit(500)\n",
        "account.withdraw(300)\n",
        "print(account.get_balance())\n"
      ],
      "metadata": {
        "colab": {
          "base_uri": "https://localhost:8080/"
        },
        "id": "9au27Sx6W0x1",
        "outputId": "8cc8c402-e496-40b3-a7f9-9b1d373fb066"
      },
      "execution_count": 7,
      "outputs": [
        {
          "output_type": "stream",
          "name": "stdout",
          "text": [
            "1200\n"
          ]
        }
      ]
    },
    {
      "cell_type": "markdown",
      "source": [
        "6. Demonstrate runtime polymorphism using a method play() in a base class instrument. Derive classes Guitar and Piano that Implement their own version of play()."
      ],
      "metadata": {
        "id": "z4ow0wanZ3gT"
      }
    },
    {
      "cell_type": "code",
      "source": [
        "class Instrument:\n",
        "    def play(self):\n",
        "        print(\"Playing an instrument.\")\n",
        "\n",
        "class Guitar(Instrument):\n",
        "    def play(self):\n",
        "        print(\"Playing a guitar.\")\n",
        "\n",
        "class Piano(Instrument):\n",
        "    def play(self):\n",
        "        print(\"Playing a piano.\")\n",
        "\n",
        "instruments = [Guitar(), Piano()]\n",
        "for instrument in instruments:\n",
        "    instrument.play()\n"
      ],
      "metadata": {
        "colab": {
          "base_uri": "https://localhost:8080/"
        },
        "id": "IpQCjVdPZ8s0",
        "outputId": "a0963972-68d2-4103-a2b3-b3a72966614b"
      },
      "execution_count": 8,
      "outputs": [
        {
          "output_type": "stream",
          "name": "stdout",
          "text": [
            "Playing a guitar.\n",
            "Playing a piano.\n"
          ]
        }
      ]
    },
    {
      "cell_type": "markdown",
      "source": [
        "7. Create a class MathOperations with a class method add numbers() to add two numbers and a static method subtract numbers() to subtract two numbers"
      ],
      "metadata": {
        "id": "YqW1lSIVa6qB"
      }
    },
    {
      "cell_type": "code",
      "source": [
        "class MathOperations:\n",
        "    @classmethod\n",
        "    def add_numbers(cls, a, b):\n",
        "        return a + b\n",
        "\n",
        "    @staticmethod\n",
        "    def subtract_numbers(a, b):\n",
        "        return a - b\n",
        "\n",
        "print(MathOperations.add_numbers(10, 5))\n",
        "print(MathOperations.subtract_numbers(10, 5))\n"
      ],
      "metadata": {
        "colab": {
          "base_uri": "https://localhost:8080/"
        },
        "id": "lUcOKd3ha_Pf",
        "outputId": "068930c1-2bd5-405b-fbdd-ad4e0b9cdadb"
      },
      "execution_count": 9,
      "outputs": [
        {
          "output_type": "stream",
          "name": "stdout",
          "text": [
            "15\n",
            "5\n"
          ]
        }
      ]
    },
    {
      "cell_type": "markdown",
      "source": [
        "8. Implement a class Person with a class method to count the total number of persons created"
      ],
      "metadata": {
        "id": "Sbju-DSfbTCD"
      }
    },
    {
      "cell_type": "code",
      "source": [
        "class Person:\n",
        "    count = 0\n",
        "\n",
        "    def __init__(self):\n",
        "        Person.count += 1\n",
        "\n",
        "    @classmethod\n",
        "    def total_persons(cls):\n",
        "        return cls.count\n",
        "\n",
        "p1 = Person()\n",
        "p2 = Person()\n",
        "print(Person.total_persons())\n"
      ],
      "metadata": {
        "colab": {
          "base_uri": "https://localhost:8080/"
        },
        "id": "WWnkt3ksbUTB",
        "outputId": "9ee0773a-f0d6-4500-fddd-84260d2f4d21"
      },
      "execution_count": 10,
      "outputs": [
        {
          "output_type": "stream",
          "name": "stdout",
          "text": [
            "2\n"
          ]
        }
      ]
    },
    {
      "cell_type": "markdown",
      "source": [
        "9. Write a class Fraction with attributes numerator and denominator. Override the str method to display the fraction as 'numerator/denominator\""
      ],
      "metadata": {
        "id": "dt3QqS3BbqF2"
      }
    },
    {
      "cell_type": "code",
      "source": [
        "class Fraction:\n",
        "    def __init__(self, numerator, denominator):\n",
        "        self.numerator = numerator\n",
        "        self.denominator = denominator\n",
        "\n",
        "    def __str__(self):\n",
        "        return f\"{self.numerator}/{self.denominator}\"\n",
        "\n",
        "fraction = Fraction(3, 4)\n",
        "print(fraction)\n"
      ],
      "metadata": {
        "colab": {
          "base_uri": "https://localhost:8080/"
        },
        "id": "pq9xa3YfbuX9",
        "outputId": "f6a589a2-7907-4df5-e780-928f51e333d3"
      },
      "execution_count": 11,
      "outputs": [
        {
          "output_type": "stream",
          "name": "stdout",
          "text": [
            "3/4\n"
          ]
        }
      ]
    },
    {
      "cell_type": "markdown",
      "source": [
        "10. Dermonstrate operator overloading by creating a class Vector and overriding the add method to add two vectors"
      ],
      "metadata": {
        "id": "xcs0UwyQcCyu"
      }
    },
    {
      "cell_type": "code",
      "source": [
        "class Vector:\n",
        "    def __init__(self, x, y):\n",
        "        self.x = x\n",
        "        self.y = y\n",
        "\n",
        "    def __add__(self, other):\n",
        "        return Vector(self.x + other.x, self.y + other.y)\n",
        "\n",
        "    def __str__(self):\n",
        "        return f\"Vector({self.x}, {self.y})\"\n",
        "\n",
        "v1 = Vector(2, 3)\n",
        "v2 = Vector(4, 5)\n",
        "print(v1 + v2)\n"
      ],
      "metadata": {
        "colab": {
          "base_uri": "https://localhost:8080/"
        },
        "id": "fRtU61-kcPc2",
        "outputId": "1a6227c4-05d2-463c-850b-ba997e668364"
      },
      "execution_count": 12,
      "outputs": [
        {
          "output_type": "stream",
          "name": "stdout",
          "text": [
            "Vector(6, 8)\n"
          ]
        }
      ]
    },
    {
      "cell_type": "markdown",
      "source": [
        "11. Create a class Person with attributes nome and age. Add a method greet() that prints \"Hello, my name is (name) and tam (age) years old\"\n"
      ],
      "metadata": {
        "id": "45ZeN3ULctT9"
      }
    },
    {
      "cell_type": "code",
      "source": [
        "class Person:\n",
        "    def __init__(self, name, age):\n",
        "        self.name = name\n",
        "        self.age = age\n",
        "\n",
        "    def greet(self):\n",
        "        print(f\"Hello, my name is {self.name} and I am {self.age} years old.\")\n",
        "\n",
        "p = Person(\"Alice\", 25)\n",
        "p.greet()\n"
      ],
      "metadata": {
        "colab": {
          "base_uri": "https://localhost:8080/"
        },
        "id": "zKcLBeZucx2U",
        "outputId": "cdde2b3b-8e65-44e4-82c4-e50a993fd45d"
      },
      "execution_count": 13,
      "outputs": [
        {
          "output_type": "stream",
          "name": "stdout",
          "text": [
            "Hello, my name is Alice and I am 25 years old.\n"
          ]
        }
      ]
    },
    {
      "cell_type": "markdown",
      "source": [
        "12. Implement a class Student with attributes name and grades. Create a method average grade() to compute the overage of the grades."
      ],
      "metadata": {
        "id": "vbEIrFJlc5Ig"
      }
    },
    {
      "cell_type": "code",
      "source": [
        "class Student:\n",
        "    def __init__(self, name, grades):\n",
        "        self.name = name\n",
        "        self.grades = grades\n",
        "\n",
        "    def average_grade(self):\n",
        "        return sum(self.grades) / len(self.grades)\n",
        "\n",
        "student = Student(\"John\", [90, 85, 88])\n",
        "print(student.average_grade())\n"
      ],
      "metadata": {
        "colab": {
          "base_uri": "https://localhost:8080/"
        },
        "id": "wb_zCLpMc6K6",
        "outputId": "6c104806-00e7-4007-89bf-2acfa5cd790e"
      },
      "execution_count": 14,
      "outputs": [
        {
          "output_type": "stream",
          "name": "stdout",
          "text": [
            "87.66666666666667\n"
          ]
        }
      ]
    },
    {
      "cell_type": "markdown",
      "source": [
        "13. Create a class Rectangle with methods set dimensions() to set the dimensions and area() to calculate the orea"
      ],
      "metadata": {
        "id": "7T2Lk46LbPO4"
      }
    },
    {
      "cell_type": "code",
      "source": [
        "class Rectangle:\n",
        "    def set_dimensions(self, length, width):\n",
        "        self.length = length\n",
        "        self.width = width\n",
        "\n",
        "    def area(self):\n",
        "        return self.length * self.width\n",
        "\n",
        "rect = Rectangle()\n",
        "rect.set_dimensions(4, 5)\n",
        "print(rect.area())\n"
      ],
      "metadata": {
        "colab": {
          "base_uri": "https://localhost:8080/"
        },
        "id": "GRcSVj8zdF9w",
        "outputId": "b1789deb-6faf-438a-b28c-1fddb2dbf9c8"
      },
      "execution_count": 15,
      "outputs": [
        {
          "output_type": "stream",
          "name": "stdout",
          "text": [
            "20\n"
          ]
        }
      ]
    },
    {
      "cell_type": "markdown",
      "source": [
        "14. Create a closs Employee with a method calculate salary() that computes the salary based on hours worked and hourly rate. Create a derived class Manager that adds a bonus to the salary."
      ],
      "metadata": {
        "id": "kuMaDlnXdJ4W"
      }
    },
    {
      "cell_type": "code",
      "source": [
        "class Employee:\n",
        "    def __init__(self, hours_worked, hourly_rate):\n",
        "        self.hours_worked = hours_worked\n",
        "        self.hourly_rate = hourly_rate\n",
        "\n",
        "    def calculate_salary(self):\n",
        "        return self.hours_worked * self.hourly_rate\n",
        "\n",
        "class Manager(Employee):\n",
        "    def __init__(self, hours_worked, hourly_rate, bonus):\n",
        "        super().__init__(hours_worked, hourly_rate)\n",
        "        self.bonus = bonus\n",
        "\n",
        "    def calculate_salary(self):\n",
        "        return super().calculate_salary() + self.bonus\n",
        "\n",
        "manager = Manager(40, 50, 1000)\n",
        "print(manager.calculate_salary())\n"
      ],
      "metadata": {
        "colab": {
          "base_uri": "https://localhost:8080/"
        },
        "id": "OuCO6U8ddNdL",
        "outputId": "80f0c977-4cbd-4c44-8646-87e9a128e338"
      },
      "execution_count": 16,
      "outputs": [
        {
          "output_type": "stream",
          "name": "stdout",
          "text": [
            "3000\n"
          ]
        }
      ]
    },
    {
      "cell_type": "markdown",
      "source": [
        "15. Create a class Product with attributes nome, price, and quantity, Implement a method total price() that calculates the total price of the product.\n"
      ],
      "metadata": {
        "id": "YR9uNmrodTpO"
      }
    },
    {
      "cell_type": "code",
      "source": [
        "class Product:\n",
        "    def __init__(self, name, price, quantity):\n",
        "        self.name = name\n",
        "        self.price = price\n",
        "        self.quantity = quantity\n",
        "\n",
        "    def total_price(self):\n",
        "        return self.price * self.quantity\n",
        "\n",
        "product = Product(\"Laptop\", 1000, 2)\n",
        "print(product.total_price())\n"
      ],
      "metadata": {
        "colab": {
          "base_uri": "https://localhost:8080/"
        },
        "id": "AIo0NSB4dXg6",
        "outputId": "d95db2f6-f5ac-4ed3-d33d-a6a02a7da79c"
      },
      "execution_count": 17,
      "outputs": [
        {
          "output_type": "stream",
          "name": "stdout",
          "text": [
            "2000\n"
          ]
        }
      ]
    },
    {
      "cell_type": "markdown",
      "source": [
        "16. Create a class Animal with an abstract method sound(). Create two derived classes Cow and Sheep that Implement the sound() method."
      ],
      "metadata": {
        "id": "tk1jw--pdatj"
      }
    },
    {
      "cell_type": "code",
      "source": [
        "from abc import ABC, abstractmethod\n",
        "\n",
        "class Animal(ABC):\n",
        "    @abstractmethod\n",
        "    def sound(self):\n",
        "        pass\n",
        "\n",
        "class Cow(Animal):\n",
        "    def sound(self):\n",
        "        print(\"Moo\")\n",
        "\n",
        "class Sheep(Animal):\n",
        "    def sound(self):\n",
        "        print(\"Baa\")\n",
        "\n",
        "cow = Cow()\n",
        "cow.sound()\n"
      ],
      "metadata": {
        "colab": {
          "base_uri": "https://localhost:8080/"
        },
        "id": "kAXHgpj9df-l",
        "outputId": "1a58f41f-0435-4094-b939-8d92023382ad"
      },
      "execution_count": 18,
      "outputs": [
        {
          "output_type": "stream",
          "name": "stdout",
          "text": [
            "Moo\n"
          ]
        }
      ]
    },
    {
      "cell_type": "markdown",
      "source": [
        "17. Create a class Book with attributes title, author, and year published. Add a method get book info() that returns a formatted string with the book's details."
      ],
      "metadata": {
        "id": "yN_Mjwhsdj8w"
      }
    },
    {
      "cell_type": "code",
      "source": [
        "class Book:\n",
        "    def __init__(self, title, author, year):\n",
        "        self.title = title\n",
        "        self.author = author\n",
        "        self.year = year\n",
        "\n",
        "    def get_book_info(self):\n",
        "        return f\"{self.title} by {self.author}, published in {self.year}.\"\n",
        "\n",
        "book = Book(\"1984\", \"George Orwell\", 1949)\n",
        "print(book.get_book_info())\n"
      ],
      "metadata": {
        "colab": {
          "base_uri": "https://localhost:8080/"
        },
        "id": "puLVzgQKdoHE",
        "outputId": "4236dede-9062-4d29-fca0-0c0d477cd5b0"
      },
      "execution_count": 19,
      "outputs": [
        {
          "output_type": "stream",
          "name": "stdout",
          "text": [
            "1984 by George Orwell, published in 1949.\n"
          ]
        }
      ]
    },
    {
      "cell_type": "markdown",
      "source": [
        "18. Create a class House with attributes address and price. Create a derived class Mansion that adds an attribute number_of_rooms."
      ],
      "metadata": {
        "id": "q7y3trjhdrka"
      }
    },
    {
      "cell_type": "code",
      "source": [
        "class House:\n",
        "    def __init__(self, address, price):\n",
        "        self.address = address\n",
        "        self.price = price\n",
        "\n",
        "class Mansion(House):\n",
        "    def __init__(self, address, price, rooms):\n",
        "        super().__init__(address, price)\n",
        "        self.rooms = rooms\n",
        "\n",
        "mansion = Mansion(\"123 Street\", 500000, 10)\n",
        "print(mansion.address, mansion.price, mansion.rooms)\n"
      ],
      "metadata": {
        "id": "AYKSkhf7dzvF",
        "outputId": "71984b8d-9559-4663-d46e-85cce7cae15f",
        "colab": {
          "base_uri": "https://localhost:8080/"
        }
      },
      "execution_count": 20,
      "outputs": [
        {
          "output_type": "stream",
          "name": "stdout",
          "text": [
            "123 Street 500000 10\n"
          ]
        }
      ]
    },
    {
      "cell_type": "markdown",
      "source": [],
      "metadata": {
        "id": "1qDr6FBVMfcq"
      }
    }
  ]
}