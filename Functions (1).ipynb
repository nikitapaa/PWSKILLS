{
  "nbformat": 4,
  "nbformat_minor": 0,
  "metadata": {
    "colab": {
      "provenance": []
    },
    "kernelspec": {
      "name": "python3",
      "display_name": "Python 3"
    },
    "language_info": {
      "name": "python"
    }
  },
  "cells": [
    {
      "cell_type": "markdown",
      "source": [
        "# **1. What is the difference between a function and a method in Python?**\n",
        "\n",
        "\n",
        "\n",
        "\n",
        "\n",
        "\n",
        "\n",
        "\n",
        "\n",
        "\n",
        "\n",
        "\n",
        "\n",
        "\n",
        "\n"
      ],
      "metadata": {
        "id": "6n8Ri-0pNF98"
      }
    },
    {
      "cell_type": "markdown",
      "source": [
        "# - Function: A function is a block of reusable code that is defined using the def keyword and can be called independently.\n",
        "## -Method: A method is a function that is associated with an object (usually a class). It is called on an instance of a class using dot notation.\n",
        "\n",
        "For example:-"
      ],
      "metadata": {
        "id": "v_iszifJOjc0"
      }
    },
    {
      "cell_type": "code",
      "source": [
        "class Person:\n",
        "    def __init__(self, name):\n",
        "        self.name = name\n",
        "\n",
        "    def greet(self): #defining a function\n",
        "        return f\"Hello, {self.name}\"\n",
        "\n",
        "p = Person(\"Nikita\")\n",
        "print(p.greet())  # Calling a method\n"
      ],
      "metadata": {
        "colab": {
          "base_uri": "https://localhost:8080/"
        },
        "id": "Nkv8mXYIObGv",
        "outputId": "df6220f0-a6c8-4085-99fa-cfab96d75012"
      },
      "execution_count": null,
      "outputs": [
        {
          "output_type": "stream",
          "name": "stdout",
          "text": [
            "Hello, Nikita\n"
          ]
        }
      ]
    },
    {
      "cell_type": "markdown",
      "source": [
        "# **2. Explain the concept of function arguments and parameters in Python.**"
      ],
      "metadata": {
        "id": "SI-StnJsNKyx"
      }
    },
    {
      "cell_type": "markdown",
      "source": [
        "# Parameters are the variables listed in the function definition.\n",
        "# Arguments are the values passed to the function when it is called"
      ],
      "metadata": {
        "id": "bEhlcQJmPN7c"
      }
    },
    {
      "cell_type": "code",
      "source": [
        "def add(a, b):  # a and b are parameters\n",
        "    return a + b\n",
        "\n",
        "result = add(3, 5)  # 3 and 5 are arguments"
      ],
      "metadata": {
        "id": "MGLLgfzGPY_s"
      },
      "execution_count": null,
      "outputs": []
    },
    {
      "cell_type": "markdown",
      "source": [
        "# **3. What are the different ways to define and call a function in Python?**"
      ],
      "metadata": {
        "id": "eyDGByhjNidW"
      }
    },
    {
      "cell_type": "code",
      "source": [
        "def square(n): #defining a function using def\n",
        "    return n * n\n",
        "\n",
        "print(square(4))  # Calling a function\n",
        "\n",
        "square = lambda x: x * x     #lambda function\n",
        "print(square(4))"
      ],
      "metadata": {
        "colab": {
          "base_uri": "https://localhost:8080/"
        },
        "id": "Yy_VyafbPqf-",
        "outputId": "0dd19621-7926-42c5-dcb6-7366778b5853"
      },
      "execution_count": null,
      "outputs": [
        {
          "output_type": "stream",
          "name": "stdout",
          "text": [
            "16\n",
            "16\n"
          ]
        }
      ]
    },
    {
      "cell_type": "markdown",
      "source": [
        "# **4. What is the purpose of the `return` statement in a Python function?**"
      ],
      "metadata": {
        "id": "WrmvdqZQNoBS"
      }
    },
    {
      "cell_type": "markdown",
      "source": [
        "# The return statement is used to return a value from a function and terminate its execution. Foe example:-"
      ],
      "metadata": {
        "id": "UeUsN4bEQM0u"
      }
    },
    {
      "cell_type": "code",
      "source": [
        "def multiply(x, y):\n",
        "    return x * y  # Returns the product of x and y\n",
        "print(multiply(3, 4))\n"
      ],
      "metadata": {
        "colab": {
          "base_uri": "https://localhost:8080/"
        },
        "id": "lcxTebfeQTsx",
        "outputId": "23ef2f40-ed40-4792-a2d9-6bb59cc777be"
      },
      "execution_count": null,
      "outputs": [
        {
          "output_type": "stream",
          "name": "stdout",
          "text": [
            "12\n"
          ]
        }
      ]
    },
    {
      "cell_type": "markdown",
      "source": [
        "# **5. What are iterators in Python and how do they differ from iterables?**"
      ],
      "metadata": {
        "id": "i6E3Hxa3Nt_n"
      }
    },
    {
      "cell_type": "markdown",
      "source": [
        "# Iterable: An object that contains a sequence of values and can return an iterator (e.g., lists, tuples, sets).\n",
        "# Iterator: An object that keeps track of its position and returns the next value when next() is called.\n",
        "# Example:"
      ],
      "metadata": {
        "id": "MT85p1vvQcsi"
      }
    },
    {
      "cell_type": "code",
      "source": [
        "my_list = [1, 2, 3]\n",
        "my_iter = iter(my_list)  # Getting an iterator\n",
        "\n",
        "print(next(my_iter))  # Output: 1\n",
        "print(next(my_iter))  # Output: 2\n"
      ],
      "metadata": {
        "colab": {
          "base_uri": "https://localhost:8080/"
        },
        "id": "b5P8JEsOQhir",
        "outputId": "229fc1e3-d625-4f16-aa8f-f7d56e20933e"
      },
      "execution_count": null,
      "outputs": [
        {
          "output_type": "stream",
          "name": "stdout",
          "text": [
            "1\n",
            "2\n"
          ]
        }
      ]
    },
    {
      "cell_type": "markdown",
      "source": [
        "# **6. Explain the concept of generators in Python and how they are defined.**"
      ],
      "metadata": {
        "id": "aiCDdhvFNyjy"
      }
    },
    {
      "cell_type": "markdown",
      "source": [
        "# A generator is a special type of iterator that yields values lazily using the yield keyword.\n",
        "# Example:"
      ],
      "metadata": {
        "id": "bWfwmeQjQ4xh"
      }
    },
    {
      "cell_type": "code",
      "source": [
        "def count_up_to(n):\n",
        "    count = 1\n",
        "    while count <= n:\n",
        "        yield count\n",
        "        count += 1\n",
        "\n",
        "gen = count_up_to(3)\n",
        "print(next(gen))  # Output: 1\n",
        "print(next(gen))  # Output: 2\n"
      ],
      "metadata": {
        "colab": {
          "base_uri": "https://localhost:8080/"
        },
        "id": "U37Eg66VQ75i",
        "outputId": "5513c98e-b1e3-4a55-caa4-3b9cdeb7089d"
      },
      "execution_count": null,
      "outputs": [
        {
          "output_type": "stream",
          "name": "stdout",
          "text": [
            "1\n",
            "2\n"
          ]
        }
      ]
    },
    {
      "cell_type": "markdown",
      "source": [
        "# **7. What are the advantages of using generators over regular functions?**"
      ],
      "metadata": {
        "id": "QDi2MN1fN3Vc"
      }
    },
    {
      "cell_type": "markdown",
      "source": [
        "# Advantages of generators are:-\n",
        "# Memory Efficiency: Generates values one at a time instead of storing them in memory.\n",
        "# Lazy Evaluation: Values are produced only when needed.\n",
        "# Better Performance: Reduces overhead compared to lists"
      ],
      "metadata": {
        "id": "pBA9Hbc5RB1s"
      }
    },
    {
      "cell_type": "code",
      "source": [
        "def generate_numbers_generator(n):\n",
        "    for i in range(n):\n",
        "        yield i  # Generates numbers one by one\n",
        "\n",
        "numbers = generate_numbers_generator(1000000)\n",
        "print(next(numbers))  # Output: 0\n",
        "print(next(numbers))  # Output: 1\n",
        "print(next(numbers))  # Output: 2\n"
      ],
      "metadata": {
        "colab": {
          "base_uri": "https://localhost:8080/"
        },
        "id": "eLRLAra_RUqt",
        "outputId": "8ea75d15-8480-45c8-a610-54dd800c1ac3"
      },
      "execution_count": null,
      "outputs": [
        {
          "output_type": "stream",
          "name": "stdout",
          "text": [
            "0\n",
            "1\n",
            "2\n"
          ]
        }
      ]
    },
    {
      "cell_type": "markdown",
      "source": [
        "# **8. What is a lambda function in Python and when is it typically used?**\n"
      ],
      "metadata": {
        "id": "zysMyTSaN98Y"
      }
    },
    {
      "cell_type": "markdown",
      "source": [
        "# A lambda function is an anonymous function defined using the lambda keyword.\n",
        "Example:"
      ],
      "metadata": {
        "id": "z1b_gddhRbOQ"
      }
    },
    {
      "cell_type": "code",
      "source": [
        "add = lambda x, y: x + y\n",
        "print(add(3, 5))  # Output: 8\n"
      ],
      "metadata": {
        "colab": {
          "base_uri": "https://localhost:8080/"
        },
        "id": "i5jtxM9QRdT6",
        "outputId": "6673149b-03c4-4504-e336-a3309f7ef25c"
      },
      "execution_count": null,
      "outputs": [
        {
          "output_type": "stream",
          "name": "stdout",
          "text": [
            "8\n"
          ]
        }
      ]
    },
    {
      "cell_type": "markdown",
      "source": [
        "# **9. Explain the purpose and usage of the `map()` function in Python.**"
      ],
      "metadata": {
        "id": "pue_9biIOJ82"
      }
    },
    {
      "cell_type": "markdown",
      "source": [
        "# The map() function applies a function to each element of an iterable."
      ],
      "metadata": {
        "id": "FMJT1G7sRhdY"
      }
    },
    {
      "cell_type": "code",
      "source": [
        "numbers = [1, 2, 3, 4]\n",
        "squared = list(map(lambda x: x * x, numbers))\n",
        "print(squared)  # Output: [1, 4, 9, 16]\n"
      ],
      "metadata": {
        "colab": {
          "base_uri": "https://localhost:8080/"
        },
        "id": "p7U4dHoWRgY-",
        "outputId": "e3cc3f67-07f3-42f5-fb9d-e22ceeaa97ab"
      },
      "execution_count": null,
      "outputs": [
        {
          "output_type": "stream",
          "name": "stdout",
          "text": [
            "[1, 4, 9, 16]\n"
          ]
        }
      ]
    },
    {
      "cell_type": "markdown",
      "source": [
        "# **10. What is the difference between `map()`, `reduce()`, and `filter()` functions in Python?**"
      ],
      "metadata": {
        "id": "7IjHLtNrOPcp"
      }
    },
    {
      "cell_type": "markdown",
      "source": [
        "# 1. map(func, iterable) → Applies a function to all elements.\n",
        "# 2. filter(func, iterable) → Filters elements based on a condition.\n",
        "# 3. reduce(func, iterable) → Reduces the iterable to a single value using accumulation (from functools)."
      ],
      "metadata": {
        "id": "JnoGIoO6RxOj"
      }
    },
    {
      "cell_type": "code",
      "source": [
        "from functools import reduce\n",
        "\n",
        "numbers = [1, 2, 3, 4, 5]\n",
        "\n",
        "# map\n",
        "squared = list(map(lambda x: x * x, numbers))\n",
        "print(squared)  # Output: [1, 4, 9, 16, 25]\n",
        "\n",
        "# filter\n",
        "evens = list(filter(lambda x: x % 2 == 0, numbers))\n",
        "print(evens)  # Output: [2, 4]\n",
        "\n",
        "# reduce\n",
        "sum_all = reduce(lambda x, y: x + y, numbers)\n",
        "print(sum_all)  # Output: 15\n"
      ],
      "metadata": {
        "colab": {
          "base_uri": "https://localhost:8080/"
        },
        "id": "J66NkMOpR_4b",
        "outputId": "87721b0c-9b30-4886-af0e-22d348d2f84b"
      },
      "execution_count": null,
      "outputs": [
        {
          "output_type": "stream",
          "name": "stdout",
          "text": [
            "[1, 4, 9, 16, 25]\n",
            "[2, 4]\n",
            "15\n"
          ]
        }
      ]
    },
    {
      "cell_type": "markdown",
      "source": [
        "# 11. Using pen & Paper write the internal mechanism for sum operation using  reduce function on this given\n",
        "# list:[47,11,42,13];"
      ],
      "metadata": {
        "id": "H2pPvVjFSXE-"
      }
    },
    {
      "cell_type": "code",
      "source": [
        "from google.colab import files\n",
        "from IPython.display import Image # Changed python.display to IPython.display\n",
        "uploaded = files.upload()"
      ],
      "metadata": {
        "colab": {
          "base_uri": "https://localhost:8080/",
          "height": 73
        },
        "id": "MPjbFybuVKqV",
        "outputId": "060dd3bc-e0a4-4401-c308-079b2f07459b"
      },
      "execution_count": null,
      "outputs": [
        {
          "output_type": "display_data",
          "data": {
            "text/plain": [
              "<IPython.core.display.HTML object>"
            ],
            "text/html": [
              "\n",
              "     <input type=\"file\" id=\"files-03c2ab0c-51b2-41e0-9925-79bd8c0b8d03\" name=\"files[]\" multiple disabled\n",
              "        style=\"border:none\" />\n",
              "     <output id=\"result-03c2ab0c-51b2-41e0-9925-79bd8c0b8d03\">\n",
              "      Upload widget is only available when the cell has been executed in the\n",
              "      current browser session. Please rerun this cell to enable.\n",
              "      </output>\n",
              "      <script>// Copyright 2017 Google LLC\n",
              "//\n",
              "// Licensed under the Apache License, Version 2.0 (the \"License\");\n",
              "// you may not use this file except in compliance with the License.\n",
              "// You may obtain a copy of the License at\n",
              "//\n",
              "//      http://www.apache.org/licenses/LICENSE-2.0\n",
              "//\n",
              "// Unless required by applicable law or agreed to in writing, software\n",
              "// distributed under the License is distributed on an \"AS IS\" BASIS,\n",
              "// WITHOUT WARRANTIES OR CONDITIONS OF ANY KIND, either express or implied.\n",
              "// See the License for the specific language governing permissions and\n",
              "// limitations under the License.\n",
              "\n",
              "/**\n",
              " * @fileoverview Helpers for google.colab Python module.\n",
              " */\n",
              "(function(scope) {\n",
              "function span(text, styleAttributes = {}) {\n",
              "  const element = document.createElement('span');\n",
              "  element.textContent = text;\n",
              "  for (const key of Object.keys(styleAttributes)) {\n",
              "    element.style[key] = styleAttributes[key];\n",
              "  }\n",
              "  return element;\n",
              "}\n",
              "\n",
              "// Max number of bytes which will be uploaded at a time.\n",
              "const MAX_PAYLOAD_SIZE = 100 * 1024;\n",
              "\n",
              "function _uploadFiles(inputId, outputId) {\n",
              "  const steps = uploadFilesStep(inputId, outputId);\n",
              "  const outputElement = document.getElementById(outputId);\n",
              "  // Cache steps on the outputElement to make it available for the next call\n",
              "  // to uploadFilesContinue from Python.\n",
              "  outputElement.steps = steps;\n",
              "\n",
              "  return _uploadFilesContinue(outputId);\n",
              "}\n",
              "\n",
              "// This is roughly an async generator (not supported in the browser yet),\n",
              "// where there are multiple asynchronous steps and the Python side is going\n",
              "// to poll for completion of each step.\n",
              "// This uses a Promise to block the python side on completion of each step,\n",
              "// then passes the result of the previous step as the input to the next step.\n",
              "function _uploadFilesContinue(outputId) {\n",
              "  const outputElement = document.getElementById(outputId);\n",
              "  const steps = outputElement.steps;\n",
              "\n",
              "  const next = steps.next(outputElement.lastPromiseValue);\n",
              "  return Promise.resolve(next.value.promise).then((value) => {\n",
              "    // Cache the last promise value to make it available to the next\n",
              "    // step of the generator.\n",
              "    outputElement.lastPromiseValue = value;\n",
              "    return next.value.response;\n",
              "  });\n",
              "}\n",
              "\n",
              "/**\n",
              " * Generator function which is called between each async step of the upload\n",
              " * process.\n",
              " * @param {string} inputId Element ID of the input file picker element.\n",
              " * @param {string} outputId Element ID of the output display.\n",
              " * @return {!Iterable<!Object>} Iterable of next steps.\n",
              " */\n",
              "function* uploadFilesStep(inputId, outputId) {\n",
              "  const inputElement = document.getElementById(inputId);\n",
              "  inputElement.disabled = false;\n",
              "\n",
              "  const outputElement = document.getElementById(outputId);\n",
              "  outputElement.innerHTML = '';\n",
              "\n",
              "  const pickedPromise = new Promise((resolve) => {\n",
              "    inputElement.addEventListener('change', (e) => {\n",
              "      resolve(e.target.files);\n",
              "    });\n",
              "  });\n",
              "\n",
              "  const cancel = document.createElement('button');\n",
              "  inputElement.parentElement.appendChild(cancel);\n",
              "  cancel.textContent = 'Cancel upload';\n",
              "  const cancelPromise = new Promise((resolve) => {\n",
              "    cancel.onclick = () => {\n",
              "      resolve(null);\n",
              "    };\n",
              "  });\n",
              "\n",
              "  // Wait for the user to pick the files.\n",
              "  const files = yield {\n",
              "    promise: Promise.race([pickedPromise, cancelPromise]),\n",
              "    response: {\n",
              "      action: 'starting',\n",
              "    }\n",
              "  };\n",
              "\n",
              "  cancel.remove();\n",
              "\n",
              "  // Disable the input element since further picks are not allowed.\n",
              "  inputElement.disabled = true;\n",
              "\n",
              "  if (!files) {\n",
              "    return {\n",
              "      response: {\n",
              "        action: 'complete',\n",
              "      }\n",
              "    };\n",
              "  }\n",
              "\n",
              "  for (const file of files) {\n",
              "    const li = document.createElement('li');\n",
              "    li.append(span(file.name, {fontWeight: 'bold'}));\n",
              "    li.append(span(\n",
              "        `(${file.type || 'n/a'}) - ${file.size} bytes, ` +\n",
              "        `last modified: ${\n",
              "            file.lastModifiedDate ? file.lastModifiedDate.toLocaleDateString() :\n",
              "                                    'n/a'} - `));\n",
              "    const percent = span('0% done');\n",
              "    li.appendChild(percent);\n",
              "\n",
              "    outputElement.appendChild(li);\n",
              "\n",
              "    const fileDataPromise = new Promise((resolve) => {\n",
              "      const reader = new FileReader();\n",
              "      reader.onload = (e) => {\n",
              "        resolve(e.target.result);\n",
              "      };\n",
              "      reader.readAsArrayBuffer(file);\n",
              "    });\n",
              "    // Wait for the data to be ready.\n",
              "    let fileData = yield {\n",
              "      promise: fileDataPromise,\n",
              "      response: {\n",
              "        action: 'continue',\n",
              "      }\n",
              "    };\n",
              "\n",
              "    // Use a chunked sending to avoid message size limits. See b/62115660.\n",
              "    let position = 0;\n",
              "    do {\n",
              "      const length = Math.min(fileData.byteLength - position, MAX_PAYLOAD_SIZE);\n",
              "      const chunk = new Uint8Array(fileData, position, length);\n",
              "      position += length;\n",
              "\n",
              "      const base64 = btoa(String.fromCharCode.apply(null, chunk));\n",
              "      yield {\n",
              "        response: {\n",
              "          action: 'append',\n",
              "          file: file.name,\n",
              "          data: base64,\n",
              "        },\n",
              "      };\n",
              "\n",
              "      let percentDone = fileData.byteLength === 0 ?\n",
              "          100 :\n",
              "          Math.round((position / fileData.byteLength) * 100);\n",
              "      percent.textContent = `${percentDone}% done`;\n",
              "\n",
              "    } while (position < fileData.byteLength);\n",
              "  }\n",
              "\n",
              "  // All done.\n",
              "  yield {\n",
              "    response: {\n",
              "      action: 'complete',\n",
              "    }\n",
              "  };\n",
              "}\n",
              "\n",
              "scope.google = scope.google || {};\n",
              "scope.google.colab = scope.google.colab || {};\n",
              "scope.google.colab._files = {\n",
              "  _uploadFiles,\n",
              "  _uploadFilesContinue,\n",
              "};\n",
              "})(self);\n",
              "</script> "
            ]
          },
          "metadata": {}
        },
        {
          "output_type": "stream",
          "name": "stdout",
          "text": [
            "Saving Q11.jpg to Q11.jpg\n"
          ]
        }
      ]
    },
    {
      "cell_type": "code",
      "source": [
        "Image('Q11.jpg')"
      ],
      "metadata": {
        "colab": {
          "base_uri": "https://localhost:8080/",
          "height": 1000
        },
        "id": "NO6CLgAhVtdc",
        "outputId": "f3853cd9-c6d6-4107-8764-fabab48a739d"
      },
      "execution_count": null,
      "outputs": [
        {
          "output_type": "execute_result",
          "data": {
            "image/jpeg": "[encoded data removed]",
            "text/plain": [
              "<IPython.core.display.Image object>"
            ]
          },
          "metadata": {},
          "execution_count": 15
        }
      ]
    },
    {
      "cell_type": "code",
      "source": [
        "from functools import reduce\n",
        "\n",
        "list = [47, 11, 42, 13]\n",
        "sum = reduce(lambda x, y: x + y, list)\n",
        "print(sum)"
      ],
      "metadata": {
        "colab": {
          "base_uri": "https://localhost:8080/"
        },
        "id": "ypDtUentW8zz",
        "outputId": "b0b99525-a834-412b-cc8d-16f24e09cff3"
      },
      "execution_count": null,
      "outputs": [
        {
          "output_type": "stream",
          "name": "stdout",
          "text": [
            "113\n"
          ]
        }
      ]
    },
    {
      "cell_type": "markdown",
      "source": [
        "# **Practical Questions:**"
      ],
      "metadata": {
        "id": "UKtmCA2kXlBN"
      }
    },
    {
      "cell_type": "markdown",
      "source": [
        "1. Write a Python function that takes a list of numbers as input and returns the sum of all even numbers in\n",
        "the list.\n",
        "\n",
        "2. Create a Python function that accepts a string and returns the reverse of that string.\n",
        "\n",
        "\n",
        "3. Implement a Python function that takes a list of integers and returns a new list containing the squares of\n",
        "each number.\n",
        "\n",
        "4. Write a Python function that checks if a given number is prime or not from 1 to 200.\n",
        "\n",
        "\n",
        "5. Create an iterator class in Python that generates the Fibonacci sequence up to a specified number of\n",
        "terms.\n",
        "\n",
        "6. Write a generator function in Python that yields the powers of 2 up to a given exponent.\n",
        "\n",
        "7. Implement a generator function that reads a file line by line and yields each line as a string.\n",
        "\n",
        "8. Use a lambda function in Python to sort a list of tuples based on the second element of each tuple.\n",
        "\n",
        "9. Write a Python program that uses `map()` to convert a list of temperatures from Celsius to Fahrenheit.\n",
        "10. Create a Python program that uses `filter()` to remove all the vowels from a given string.\n",
        "\n",
        "\n",
        "11) Imagine an accounting routine used in a book shop. It works on a list with sublists, which look like this:\n",
        "\n",
        "\n",
        "Write a Python program, which returns a list with 2-tuples. Each tuple consists of the order number and the\n",
        "product of the price per item and the quantity. The product should be increased by 10,- € if the value of the\n",
        "order is smaller than 100,00 €.\n",
        "\n",
        "Write a Python program using lambda and map"
      ],
      "metadata": {
        "id": "wyrQmXNiXtqO"
      }
    },
    {
      "cell_type": "code",
      "source": [
        "#Q1\n",
        "def sum_of_evens(numbers):\n",
        "    return sum(num for num in numbers if num % 2 == 0)\n",
        "\n",
        "# Example usage\n",
        "print(sum_of_evens([1, 2, 3, 4, 5, 6]))  # Output: 12\n"
      ],
      "metadata": {
        "colab": {
          "base_uri": "https://localhost:8080/"
        },
        "id": "EuQnfA9PXsMp",
        "outputId": "ceeb1e03-ecc5-42f7-ca72-f9749e606d73"
      },
      "execution_count": null,
      "outputs": [
        {
          "output_type": "stream",
          "name": "stdout",
          "text": [
            "12\n"
          ]
        }
      ]
    },
    {
      "cell_type": "code",
      "source": [
        "#Q2\n",
        "def reverse_string(s):\n",
        "    return s[::-1]\n",
        "\n",
        "# Example usage\n",
        "print(reverse_string(\"hello\"))\n"
      ],
      "metadata": {
        "colab": {
          "base_uri": "https://localhost:8080/"
        },
        "id": "61Qbg8Tx_MvC",
        "outputId": "24e78eea-3d01-4adf-d1ab-aaacb0493562"
      },
      "execution_count": null,
      "outputs": [
        {
          "output_type": "stream",
          "name": "stdout",
          "text": [
            "olleh\n"
          ]
        }
      ]
    },
    {
      "cell_type": "code",
      "source": [
        "#Q3\n",
        "def square_numbers(numbers):\n",
        "    return [x ** 2 for x in numbers]\n",
        "\n",
        "# Example usage\n",
        "print(square_numbers([1, 2, 3, 4, 5]))"
      ],
      "metadata": {
        "colab": {
          "base_uri": "https://localhost:8080/"
        },
        "id": "dtReFs7-Andb",
        "outputId": "8f0bf4ae-b420-4295-b377-fa8499484205"
      },
      "execution_count": null,
      "outputs": [
        {
          "output_type": "stream",
          "name": "stdout",
          "text": [
            "[1, 4, 9, 16, 25]\n"
          ]
        }
      ]
    },
    {
      "cell_type": "code",
      "source": [
        "#Q4\n",
        "def is_prime(n):\n",
        "    if n < 2:\n",
        "        return False\n",
        "    for i in range(2, int(n ** 0.5) + 1):\n",
        "        if n % i == 0:\n",
        "            return False\n",
        "    return True\n",
        "\n",
        "# Checking for numbers from 1 to 200\n",
        "primes = [n for n in range(1, 201) if is_prime(n)]\n",
        "print(primes)\n"
      ],
      "metadata": {
        "id": "Is4knAlYA_7F"
      },
      "execution_count": null,
      "outputs": []
    },
    {
      "cell_type": "code",
      "source": [
        "#Q5\n",
        "class FibonacciIterator:\n",
        "    def __init__(self, n_terms):\n",
        "        self.n_terms = n_terms\n",
        "        self.a, self.b = 0, 1\n",
        "        self.count = 0\n",
        "\n",
        "    def __iter__(self):\n",
        "        return self\n",
        "\n",
        "    def __next__(self):\n",
        "        if self.count >= self.n_terms:\n",
        "            raise StopIteration\n",
        "        fib_number = self.a\n",
        "        self.a, self.b = self.b, self.a + self.b\n",
        "        self.count += 1\n",
        "        return fib_number\n",
        "\n",
        "# Example usage\n",
        "fib_iter = FibonacciIterator(10)\n",
        "print(list(fib_iter))  # Output: First 10 Fibonacci numbers\n"
      ],
      "metadata": {
        "colab": {
          "base_uri": "https://localhost:8080/"
        },
        "id": "cviywGWwFW-e",
        "outputId": "0704be15-9188-451d-c53c-868efb996c42"
      },
      "execution_count": null,
      "outputs": [
        {
          "output_type": "stream",
          "name": "stdout",
          "text": [
            "[0, 1, 1, 2, 3, 5, 8, 13, 21, 34]\n"
          ]
        }
      ]
    },
    {
      "cell_type": "code",
      "source": [
        "#Q6\n",
        "def powers_of_2(exponent):\n",
        "    for i in range(exponent + 1):\n",
        "        yield 2 ** i\n",
        "\n",
        "# Example usage\n",
        "for power in powers_of_2(5):\n",
        "    print(power)  # Output: 1, 2, 4, 8, 16, 32\n",
        "\n"
      ],
      "metadata": {
        "colab": {
          "base_uri": "https://localhost:8080/"
        },
        "id": "-PJ8AKjkGX6N",
        "outputId": "689a6e08-d369-4456-e38a-92812022f8a0"
      },
      "execution_count": null,
      "outputs": [
        {
          "output_type": "stream",
          "name": "stdout",
          "text": [
            "1\n",
            "2\n",
            "4\n",
            "8\n",
            "16\n",
            "32\n"
          ]
        }
      ]
    },
    {
      "cell_type": "markdown",
      "source": [],
      "metadata": {
        "id": "6sQeWN4bIVMM"
      }
    },
    {
      "cell_type": "code",
      "source": [
        "#Q7\n",
        "def read_file_line_by_line(file_path):\n",
        "    with open(file_path, \"r\") as file:\n",
        "        for line in file:\n",
        "            yield line.strip()\n",
        "\n",
        "# Example usage\n",
        "for line in read_file_line_by_line(\"sample.txt\"):\n",
        "    print(line)\n"
      ],
      "metadata": {
        "id": "MMaUHieEJNqd"
      },
      "execution_count": null,
      "outputs": []
    },
    {
      "cell_type": "code",
      "source": [
        "#Q8\n",
        "data = [(1, 3), (2, 1), (4, 2), (3, 5)]\n",
        "sorted_data = sorted(data, key=lambda x: x[1])\n",
        "print(sorted_data)  # Output: [(2, 1), (4, 2), (1, 3), (3, 5)]\n"
      ],
      "metadata": {
        "colab": {
          "base_uri": "https://localhost:8080/"
        },
        "id": "6J6BWy2dJQ1S",
        "outputId": "18307812-8bbb-47c9-8b13-df5100c9b98b"
      },
      "execution_count": null,
      "outputs": [
        {
          "output_type": "stream",
          "name": "stdout",
          "text": [
            "[(2, 1), (4, 2), (1, 3), (3, 5)]\n"
          ]
        }
      ]
    },
    {
      "cell_type": "code",
      "source": [
        "#Q9\n",
        "celsius = [0, 20, 30, 40, 100]\n",
        "fahrenheit = list(map(lambda c: (c * 9/5) + 32, celsius))\n",
        "print(fahrenheit)\n"
      ],
      "metadata": {
        "colab": {
          "base_uri": "https://localhost:8080/"
        },
        "id": "iVDkxeOiJvhk",
        "outputId": "d41a6f0a-d95a-49ee-c80f-0147a52d6c61"
      },
      "execution_count": null,
      "outputs": [
        {
          "output_type": "stream",
          "name": "stdout",
          "text": [
            "[32.0, 68.0, 86.0, 104.0, 212.0]\n"
          ]
        }
      ]
    },
    {
      "cell_type": "code",
      "source": [
        "#Q10\n",
        "def remove_vowels(s):\n",
        "    vowels = \"aeiouAEIOU\"\n",
        "    return \"\".join(filter(lambda ch: ch not in vowels, s))\n",
        "\n",
        "# Example usage\n",
        "input_string = \"Hello, how are you?\"\n",
        "result = remove_vowels(input_string)\n",
        "print(result)\n"
      ],
      "metadata": {
        "colab": {
          "base_uri": "https://localhost:8080/"
        },
        "id": "V2PpRjn0J4mn",
        "outputId": "1138edee-af50-4f4f-83ad-871dbd9c7667"
      },
      "execution_count": null,
      "outputs": [
        {
          "output_type": "stream",
          "name": "stdout",
          "text": [
            "Hll, hw r y?\n"
          ]
        }
      ]
    },
    {
      "cell_type": "markdown",
      "source": [
        "11) Imagine an accounting routine used in a book shop. It works on a list with sublists, which look like this:\n",
        "order no. , book titlte and author, quantity , price per unit\n",
        " 34587, \"Learning Python, Mark Lutz\", 4, 40.95],\n",
        " 98762, \"Programming Python, Mark Lutz\", 5, 56.80],\n",
        " 77226, \"Head First Python, Paul Barry\", 3, 32.95],\n",
        " 88112, \"Einführung in Python3, Bernd Klein\", 3, 24.99]\n",
        "\n",
        " Write a Python program, which returns a list with 2-tuples. Each tuple consists of the order number and the\n",
        "product of the price per item and the quantity. The product should be increased by 10,- € if the value of the\n",
        "order is smaller than 100,00 €.\n",
        "\n",
        "# Write a Python program using lambda and map.\n",
        "\n",
        "\n",
        "\n",
        "\n",
        "\n",
        "\n",
        "\n"
      ],
      "metadata": {
        "id": "ZI8oH8MdXLYI"
      }
    },
    {
      "cell_type": "code",
      "source": [
        "#Q11\n",
        "# List of orders\n",
        "orders = [\n",
        "    [34587, \"Learning Python, Mark Lutz\", 4, 40.95],\n",
        "    [98762, \"Programming Python, Mark Lutz\", 5, 56.80],\n",
        "    [77226, \"Head First Python, Paul Barry\", 3, 32.95],\n",
        "    [88112, \"Einführung in Python3, Bernd Klein\", 3, 24.99]\n",
        "]\n",
        "\n",
        "# Function to calculate total cost with a 10€ increment if less than 100€\n",
        "def calculate_total(order):\n",
        "    order_number, booktitle, quantity, price_per_item = order\n",
        "    total = quantity * price_per_item\n",
        "    if total < 100:\n",
        "        total += 10\n",
        "    return (order_number, total)\n",
        "\n",
        "# Use map with the calculate_total function\n",
        "result = list(map(calculate_total, orders))\n",
        "\n",
        "# Print the result\n",
        "print(result)"
      ],
      "metadata": {
        "id": "9HX1d8v3KUA-",
        "colab": {
          "base_uri": "https://localhost:8080/"
        },
        "outputId": "7f100a17-05e6-407e-bf83-3067443fb744"
      },
      "execution_count": 5,
      "outputs": [
        {
          "output_type": "stream",
          "name": "stdout",
          "text": [
            "[(34587, 163.8), (98762, 284.0), (77226, 108.85000000000001), (88112, 84.97)]\n"
          ]
        }
      ]
    }
  ]
}