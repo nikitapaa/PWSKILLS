{
  "nbformat": 4,
  "nbformat_minor": 0,
  "metadata": {
    "colab": {
      "provenance": []
    },
    "kernelspec": {
      "name": "python3",
      "display_name": "Python 3"
    },
    "language_info": {
      "name": "python"
    }
  },
  "cells": [
    {
      "cell_type": "markdown",
      "source": [
        "Q/A"
      ],
      "metadata": {
        "id": "_9qoqLKhxlHk"
      }
    },
    {
      "cell_type": "markdown",
      "source": [
        "\n",
        "\n",
        "1. **What is the difference between interpreted and compiled languages?**  \n",
        "   Interpreted languages execute code line-by-line using an interpreter (e.g., Python, JavaScript). Compiled languages are translated into machine code before execution using a compiler (e.g., C++, Java).\n",
        "\n",
        "2. **What is exception handling in Python?**  \n",
        "   Exception handling is a mechanism to handle runtime errors using `try`, `except`, `else`, and `finally` blocks, preventing the program from crashing.\n",
        "\n",
        "3. **What is the purpose of the `finally` block in exception handling?**  \n",
        "   The `finally` block executes regardless of whether an exception occurs, ensuring necessary cleanup, like closing files or releasing resources.\n",
        "\n",
        "4. **What is logging in Python?**  \n",
        "   Logging is a way to track events during runtime for debugging, auditing, or monitoring. Python uses the built-in `logging` module for this purpose.\n",
        "\n",
        "5. **What is the significance of the `__del__` method in Python?**  \n",
        "   The `__del__` method is a destructor called when an object is about to be destroyed, helping to release resources or perform cleanup.\n",
        "\n",
        "6. **What is the difference between `import` and `from... import` in Python?**  \n",
        "   - `import module`: Imports the entire module.  \n",
        "   - `from module import item`: Imports specific items from the module.\n",
        "\n",
        "7. **How can you handle multiple exceptions in Python?**  \n",
        "   Use multiple `except` blocks or combine exceptions in a tuple:  \n",
        "   python\n",
        "    ''' try:\n",
        "          # code\n",
        "      except (TypeError, ValueError):\n",
        "           # handle error\n",
        "    '''\n",
        "\n",
        "8. **What is the purpose of the `with` statement when handling files in Python?**  \n",
        "   The `with` statement ensures proper resource management, automatically closing files even if an error occurs.\n",
        "\n",
        "9. **What is the difference between multithreading and multiprocessing?**  \n",
        "   - Multithreading runs multiple threads within the same process, sharing memory.  \n",
        "   - Multiprocessing runs multiple processes with separate memory spaces, offering better performance for CPU-bound tasks.\n",
        "\n",
        "10. **What are the advantages of using logging in a program?**  \n",
        "    - Easier debugging  \n",
        "    - Monitoring and tracking  \n",
        "    - Diagnostic purposes  \n",
        "    - Record-keeping and auditing  \n",
        "\n",
        "11. **What is memory management in Python?**  \n",
        "    Memory management involves the allocation and deallocation of memory for Python objects, managed by Python's garbage collector.\n",
        "\n",
        "12. **What are the basic steps involved in exception handling in Python?**  \n",
        "    - Use `try` to write code that may raise an exception.  \n",
        "    - Handle exceptions using `except`.  \n",
        "    - Use `else` to execute code if no exception occurs.  \n",
        "    - Use `finally` for cleanup.\n",
        "\n",
        "13. **Why is memory management important in Python?**  \n",
        "    It optimizes resource usage, prevents memory leaks, and maintains efficient performance.\n",
        "\n",
        "14. **What is the role of `try` and `except` in exception handling?**  \n",
        "    The `try` block contains code that might raise an error. The `except` block catches and handles the error.\n",
        "\n",
        "15. **How does Python's garbage collection system work?**  \n",
        "    Python uses reference counting and a cyclic garbage collector to reclaim unused memory and prevent memory leaks.\n",
        "\n",
        "16. **What is the purpose of the `else` block in exception handling?**  \n",
        "    The `else` block runs only if no exceptions occur in the `try` block.\n",
        "\n",
        "17. **What are the common logging levels in Python?**  \n",
        "    - DEBUG  \n",
        "    - INFO  \n",
        "    - WARNING  \n",
        "    - ERROR  \n",
        "    - CRITICAL  \n",
        "\n",
        "18. **What is the difference between `os.fork()` and multiprocessing in Python?**  \n",
        "    - `os.fork()` creates a child process but is Unix-specific.  \n",
        "    - The `multiprocessing` module is cross-platform and offers better control.\n",
        "\n",
        "19. **What is the importance of closing a file in Python?**  \n",
        "    Closing a file ensures all buffered data is written, releases system resources, and prevents data corruption.\n",
        "\n",
        "20. **What is the difference between `file.read()` and `file.readline()` in Python?**  \n",
        "    - `file.read()` reads the entire file content.  \n",
        "    - `file.readline()` reads a single line of the file.\n",
        "\n",
        "21. **What is the logging module in Python used for?**  \n",
        "    The `logging` module is used to track events, record errors, and maintain logs for debugging and monitoring.\n",
        "\n",
        "22. **What is the `os` module in Python used for in file handling?**  \n",
        "    It provides functions to interact with the operating system, like reading, writing, deleting, and renaming files.\n",
        "\n",
        "23. **What are the challenges associated with memory management in Python?**  \n",
        "    - Handling circular references  \n",
        "    - Managing large datasets  \n",
        "    - Avoiding memory leaks  \n",
        "\n",
        "24. **How do you raise an exception manually in Python?**  \n",
        "    Use the `raise` keyword, like `raise ValueError(\"Invalid input\")`.\n",
        "\n",
        "25. **Why is it important to use multithreading in certain applications?**  \n",
        "    Multithreading improves performance for I/O-bound tasks, enhances concurrency, and increases application responsiveness."
      ],
      "metadata": {
        "id": "zcjE6UzPenUW"
      }
    },
    {
      "cell_type": "markdown",
      "source": [
        "PRACTICAL"
      ],
      "metadata": {
        "id": "m2BtKJAz04SV"
      }
    },
    {
      "cell_type": "markdown",
      "source": [
        "1. How can you open a file for writing in Python and write a string to it?"
      ],
      "metadata": {
        "id": "yNX_f7lF06Ei"
      }
    },
    {
      "cell_type": "code",
      "source": [
        "with open(\"example.txt\", \"w\") as file:\n",
        "    file.write(\"Hello, World!\")\n"
      ],
      "metadata": {
        "id": "LAmTBIHe1CXm"
      },
      "execution_count": null,
      "outputs": []
    },
    {
      "cell_type": "markdown",
      "source": [
        "2. Write a Python program to read the contents of a file and print each line."
      ],
      "metadata": {
        "id": "EEPvcDqp1POv"
      }
    },
    {
      "cell_type": "code",
      "source": [
        "with open(\"example.txt\", \"r\") as file:\n",
        "    for line in file:\n",
        "        print(line.strip())\n"
      ],
      "metadata": {
        "colab": {
          "base_uri": "https://localhost:8080/"
        },
        "id": "Ro1lglYB1TWj",
        "outputId": "17a69339-b26c-45f9-9743-46bb5e477a56"
      },
      "execution_count": null,
      "outputs": [
        {
          "output_type": "stream",
          "name": "stdout",
          "text": [
            "Hello, World!\n"
          ]
        }
      ]
    },
    {
      "cell_type": "markdown",
      "source": [
        "3. How would you handle a case where the file doesn't exist while trying to open it for reading?"
      ],
      "metadata": {
        "id": "gg9CfR9s1eTN"
      }
    },
    {
      "cell_type": "code",
      "source": [
        "try:\n",
        "    with open(\"nonexistent.txt\", \"r\") as file:\n",
        "        content = file.read()\n",
        "except FileNotFoundError:\n",
        "    print(\"Error: The file does not exist.\")\n"
      ],
      "metadata": {
        "colab": {
          "base_uri": "https://localhost:8080/"
        },
        "id": "dhAZgtNs1iz4",
        "outputId": "a4aa2da7-2321-465c-e3fe-275180b807f6"
      },
      "execution_count": null,
      "outputs": [
        {
          "output_type": "stream",
          "name": "stdout",
          "text": [
            "Error: The file does not exist.\n"
          ]
        }
      ]
    },
    {
      "cell_type": "markdown",
      "source": [
        "4. Write a Python script that reads from one file and writes its content to another file."
      ],
      "metadata": {
        "id": "FhO8yFBu1s7h"
      }
    },
    {
      "cell_type": "code",
      "source": [
        "with open(\"example.txt\", \"r\") as source, open(\"destination.txt\", \"w\") as dest:\n",
        "    dest.write(source.read())\n"
      ],
      "metadata": {
        "id": "IbamWkbO2mJ_"
      },
      "execution_count": null,
      "outputs": []
    },
    {
      "cell_type": "markdown",
      "source": [
        "5. How would you catch and handle division by zero error in Python?"
      ],
      "metadata": {
        "id": "BR8KU_j826AH"
      }
    },
    {
      "cell_type": "code",
      "source": [
        "try:\n",
        "    result = 10 / 0\n",
        "except ZeroDivisionError:\n",
        "    print(\"Error: Division by zero is not allowed.\")\n"
      ],
      "metadata": {
        "colab": {
          "base_uri": "https://localhost:8080/"
        },
        "id": "wO9jc0633CPF",
        "outputId": "a6f5cc46-7239-4050-fe84-e81f7afece4e"
      },
      "execution_count": null,
      "outputs": [
        {
          "output_type": "stream",
          "name": "stdout",
          "text": [
            "Error: Division by zero is not allowed.\n"
          ]
        }
      ]
    },
    {
      "cell_type": "markdown",
      "source": [
        "6. Write a Python program that logs an error message to a log file when a division by zero exception occurs."
      ],
      "metadata": {
        "id": "al9aF5XV3ICl"
      }
    },
    {
      "cell_type": "code",
      "source": [
        "import logging\n",
        "logging.basicConfig(filename=\"error.log\", level=logging.ERROR)\n",
        "\n",
        "try:\n",
        "    result = 10 / 0\n",
        "except ZeroDivisionError:\n",
        "    logging.error(\"Attempted to divide by zero.\")\n"
      ],
      "metadata": {
        "id": "1H_Uy7G-3PUz"
      },
      "execution_count": null,
      "outputs": []
    },
    {
      "cell_type": "markdown",
      "source": [
        "7. How do you log information at different levels (INFO, ERROR, WARNING) in Python using the logging module?"
      ],
      "metadata": {
        "id": "2dmp3zei8t58"
      }
    },
    {
      "cell_type": "code",
      "source": [
        "import logging\n",
        "logging.basicConfig(level=logging.INFO)\n",
        "\n",
        "logging.info(\"This is an info message.\")\n",
        "logging.warning(\"This is a warning message.\")\n",
        "logging.error(\"This is an error message.\")\n"
      ],
      "metadata": {
        "colab": {
          "base_uri": "https://localhost:8080/"
        },
        "id": "R7leVuDJ8xNn",
        "outputId": "9f2e74a2-2c23-408e-e795-3c01ed3d8ca0"
      },
      "execution_count": 14,
      "outputs": [
        {
          "output_type": "stream",
          "name": "stderr",
          "text": [
            "WARNING:root:This is a warning message.\n",
            "ERROR:root:This is an error message.\n"
          ]
        }
      ]
    },
    {
      "cell_type": "markdown",
      "source": [
        "8. Write a program to handle a file opening error using exception handling."
      ],
      "metadata": {
        "id": "nQbCVhLI9B_D"
      }
    },
    {
      "cell_type": "code",
      "source": [
        "try:\n",
        "    with open(\"unknown.txt\", \"r\") as file:\n",
        "        print(file.read())\n",
        "except FileNotFoundError:\n",
        "    print(\"Error: The file was not found.\")\n"
      ],
      "metadata": {
        "colab": {
          "base_uri": "https://localhost:8080/"
        },
        "id": "8vKQXQ739HFt",
        "outputId": "16238d06-41b2-45a9-88b6-6a80a91c7fcf"
      },
      "execution_count": 15,
      "outputs": [
        {
          "output_type": "stream",
          "name": "stdout",
          "text": [
            "Error: The file was not found.\n"
          ]
        }
      ]
    },
    {
      "cell_type": "markdown",
      "source": [
        "9. How can you read a file line by line and store its content in a list in Python?"
      ],
      "metadata": {
        "id": "rZu3JqSq9Mkw"
      }
    },
    {
      "cell_type": "code",
      "source": [
        "with open(\"example.txt\", \"r\") as file:\n",
        "    lines = file.readlines()\n"
      ],
      "metadata": {
        "id": "_k0Npj_29RVr"
      },
      "execution_count": 16,
      "outputs": []
    },
    {
      "cell_type": "markdown",
      "source": [
        "10. How can you append data to an existing file in Python?"
      ],
      "metadata": {
        "id": "EfbMyjc_9Vf7"
      }
    },
    {
      "cell_type": "code",
      "source": [
        "with open(\"example.txt\", \"a\") as file:\n",
        "    file.write(\"\\nAppended text.\")\n"
      ],
      "metadata": {
        "id": "Nk4k5y6U9ZbX"
      },
      "execution_count": 17,
      "outputs": []
    },
    {
      "cell_type": "markdown",
      "source": [
        "11. Write a Python program that uses a try-except block to handle an error when attempting to access a dictionary key that doesn't exist."
      ],
      "metadata": {
        "id": "Mb3ZHnPu9cNw"
      }
    },
    {
      "cell_type": "code",
      "source": [
        "my_dict = {\"name\": \"Nikita\"}\n",
        "\n",
        "try:\n",
        "    print(my_dict[\"age\"])\n",
        "except KeyError:\n",
        "    print(\"Error: Key not found.\")\n"
      ],
      "metadata": {
        "colab": {
          "base_uri": "https://localhost:8080/"
        },
        "id": "zq6uPyfq9q_z",
        "outputId": "6a385ce6-2e2e-4d8f-949d-3cca156d45a8"
      },
      "execution_count": 19,
      "outputs": [
        {
          "output_type": "stream",
          "name": "stdout",
          "text": [
            "Error: Key not found.\n"
          ]
        }
      ]
    },
    {
      "cell_type": "markdown",
      "source": [
        "12. Write a program that demonstrates using multiple except blocks to handle different types of exceptions."
      ],
      "metadata": {
        "id": "D0ru35jF90Z4"
      }
    },
    {
      "cell_type": "code",
      "source": [
        "try:\n",
        "    x = int(\"text\")  # ValueError\n",
        "except ValueError:\n",
        "    print(\"Error: Invalid integer conversion.\")\n",
        "except ZeroDivisionError:\n",
        "    print(\"Error: Division by zero.\")\n"
      ],
      "metadata": {
        "colab": {
          "base_uri": "https://localhost:8080/"
        },
        "id": "5_bWF1U197O5",
        "outputId": "873b91c4-da01-44a6-98ab-48953f14993b"
      },
      "execution_count": 20,
      "outputs": [
        {
          "output_type": "stream",
          "name": "stdout",
          "text": [
            "Error: Invalid integer conversion.\n"
          ]
        }
      ]
    },
    {
      "cell_type": "markdown",
      "source": [
        "13. How would you check if a file exists before attempting to read it in Python?"
      ],
      "metadata": {
        "id": "iKw6l728-FN3"
      }
    },
    {
      "cell_type": "code",
      "source": [
        "import os\n",
        "\n",
        "if os.path.exists(\"example.txt\"):\n",
        "    with open(\"example.txt\", \"r\") as file:\n",
        "        print(file.read())\n",
        "else:\n",
        "    print(\"File does not exist.\")\n"
      ],
      "metadata": {
        "colab": {
          "base_uri": "https://localhost:8080/"
        },
        "id": "HA3bAyjt-Jd9",
        "outputId": "460aca7f-237d-4501-a183-ebf8e7d4318d"
      },
      "execution_count": 21,
      "outputs": [
        {
          "output_type": "stream",
          "name": "stdout",
          "text": [
            "Hello, World!\n",
            "Appended text.\n"
          ]
        }
      ]
    },
    {
      "cell_type": "markdown",
      "source": [
        "14. Write a program that uses the logging module to log both informational and error messages"
      ],
      "metadata": {
        "id": "jCHIcgO2-YNC"
      }
    },
    {
      "cell_type": "code",
      "source": [
        "import logging\n",
        "logging.basicConfig(filename=\"app.log\", level=logging.INFO)\n",
        "\n",
        "logging.info(\"Application started.\")\n",
        "try:\n",
        "    result = 10 / 0\n",
        "except ZeroDivisionError:\n",
        "    logging.error(\"Division by zero error occurred.\")\n"
      ],
      "metadata": {
        "colab": {
          "base_uri": "https://localhost:8080/"
        },
        "id": "fBzHHHwV-cSV",
        "outputId": "177af743-521a-4bcc-bd74-bca409982a6b"
      },
      "execution_count": 22,
      "outputs": [
        {
          "output_type": "stream",
          "name": "stderr",
          "text": [
            "ERROR:root:Division by zero error occurred.\n"
          ]
        }
      ]
    },
    {
      "cell_type": "markdown",
      "source": [
        "15. Write a Python program that prints the content of a file and handles the case when the file is empty.\n",
        "\n"
      ],
      "metadata": {
        "id": "LwhQx9kBAlkE"
      }
    },
    {
      "cell_type": "code",
      "source": [
        "with open(\"example.txt\", \"r\") as file:\n",
        "    content = file.read()\n",
        "    if not content:\n",
        "        print(\"The file is empty.\")\n",
        "    else:\n",
        "        print(content)\n"
      ],
      "metadata": {
        "colab": {
          "base_uri": "https://localhost:8080/"
        },
        "id": "ULvMdRlBArCX",
        "outputId": "74e5ee47-4109-42c0-991e-df01c7645ab7"
      },
      "execution_count": 23,
      "outputs": [
        {
          "output_type": "stream",
          "name": "stdout",
          "text": [
            "Hello, World!\n",
            "Appended text.\n"
          ]
        }
      ]
    },
    {
      "cell_type": "markdown",
      "source": [
        "16. Demonstrate how to use memory profiling to check the memory usage of a small program."
      ],
      "metadata": {
        "id": "wQcxhzpRA6au"
      }
    },
    {
      "cell_type": "code",
      "source": [
        "!pip install memory_profiler\n",
        "from memory_profiler import profile\n",
        "\n",
        "@profile\n",
        "def example():\n",
        "    nums = [i for i in range(100000)]\n",
        "    return sum(nums)\n",
        "\n",
        "example()"
      ],
      "metadata": {
        "colab": {
          "base_uri": "https://localhost:8080/"
        },
        "id": "YmdBo1C4A_LI",
        "outputId": "194562cb-73da-4d30-ed26-a793a845e9c3"
      },
      "execution_count": 25,
      "outputs": [
        {
          "output_type": "stream",
          "name": "stdout",
          "text": [
            "Collecting memory_profiler\n",
            "  Downloading memory_profiler-0.61.0-py3-none-any.whl.metadata (20 kB)\n",
            "Requirement already satisfied: psutil in /usr/local/lib/python3.11/dist-packages (from memory_profiler) (5.9.5)\n",
            "Downloading memory_profiler-0.61.0-py3-none-any.whl (31 kB)\n",
            "Installing collected packages: memory_profiler\n",
            "Successfully installed memory_profiler-0.61.0\n"
          ]
        },
        {
          "output_type": "stream",
          "name": "stderr",
          "text": [
            "\n",
            "PYDEV DEBUGGER WARNING:\n",
            "sys.settrace() should not be used when the debugger is being used.\n",
            "This may cause the debugger to stop working correctly.\n",
            "If this is needed, please check: \n",
            "http://pydev.blogspot.com/2007/06/why-cant-pydev-debugger-work-with.html\n",
            "to see how to restore the debug tracing back correctly.\n",
            "Call Location:\n",
            "  File \"/usr/local/lib/python3.11/dist-packages/memory_profiler.py\", line 847, in enable\n",
            "    sys.settrace(self.trace_memory_usage)\n",
            "\n",
            "\n",
            "PYDEV DEBUGGER WARNING:\n",
            "sys.settrace() should not be used when the debugger is being used.\n",
            "This may cause the debugger to stop working correctly.\n",
            "If this is needed, please check: \n",
            "http://pydev.blogspot.com/2007/06/why-cant-pydev-debugger-work-with.html\n",
            "to see how to restore the debug tracing back correctly.\n",
            "Call Location:\n",
            "  File \"/usr/local/lib/python3.11/dist-packages/memory_profiler.py\", line 850, in disable\n",
            "    sys.settrace(self._original_trace_function)\n",
            "\n"
          ]
        },
        {
          "output_type": "stream",
          "name": "stdout",
          "text": [
            "ERROR: Could not find file <ipython-input-25-a4194357c0b2>\n",
            "NOTE: %mprun can only be used on functions defined in physical files, and not in the IPython environment.\n"
          ]
        },
        {
          "output_type": "execute_result",
          "data": {
            "text/plain": [
              "4999950000"
            ]
          },
          "metadata": {},
          "execution_count": 25
        }
      ]
    },
    {
      "cell_type": "markdown",
      "source": [
        "17. Write a Python program to create and write a list of numbers to a file, one number per line"
      ],
      "metadata": {
        "id": "dBH5QdHSBbg5"
      }
    },
    {
      "cell_type": "code",
      "source": [
        "numbers = [1, 2, 3, 4, 5]\n",
        "\n",
        "with open(\"numbers.txt\", \"w\") as file:\n",
        "    for number in numbers:\n",
        "        file.write(f\"{number}\\n\")\n"
      ],
      "metadata": {
        "id": "4J-Cutw_Bglm"
      },
      "execution_count": 36,
      "outputs": []
    },
    {
      "cell_type": "markdown",
      "source": [
        "18. How would you implement a basic logging setup that logs to a file with rotation after 1MB?"
      ],
      "metadata": {
        "id": "LYrdqgRgCkzZ"
      }
    },
    {
      "cell_type": "code",
      "source": [
        "import logging\n",
        "from logging.handlers import RotatingFileHandler\n",
        "\n",
        "handler = RotatingFileHandler(\"app.log\", maxBytes=1_000_000, backupCount=3)\n",
        "logging.basicConfig(handlers=[handler], level=logging.INFO)\n"
      ],
      "metadata": {
        "id": "JjcnchyqCrDR"
      },
      "execution_count": 37,
      "outputs": []
    },
    {
      "cell_type": "markdown",
      "source": [
        "19. Write a program that handles both IndexError and KeyError using a try-except block"
      ],
      "metadata": {
        "id": "w5faJ2U6CwFO"
      }
    },
    {
      "cell_type": "code",
      "source": [
        "my_list = [1, 2, 3]\n",
        "my_dict = {\"name\": \"Nikita\"}\n",
        "\n",
        "try:\n",
        "    print(my_list[5])  # IndexError\n",
        "    print(my_dict[\"age\"])  # KeyError\n",
        "except IndexError:\n",
        "    print(\"Index out of range.\")\n",
        "except KeyError:\n",
        "    print(\"Key not found in dictionary.\")\n"
      ],
      "metadata": {
        "colab": {
          "base_uri": "https://localhost:8080/"
        },
        "id": "jyqIbs85C0XT",
        "outputId": "92482aea-85d9-4d03-f66e-873e72cf51b5"
      },
      "execution_count": 40,
      "outputs": [
        {
          "output_type": "stream",
          "name": "stdout",
          "text": [
            "Index out of range.\n"
          ]
        }
      ]
    },
    {
      "cell_type": "markdown",
      "source": [
        "20. How would you open a file and read its contents using a context manager in Python?\n",
        "\n"
      ],
      "metadata": {
        "id": "ShlRpX6uDTAN"
      }
    },
    {
      "cell_type": "code",
      "source": [
        "with open(\"example.txt\", \"r\") as file:\n",
        "    print(file.read())\n"
      ],
      "metadata": {
        "colab": {
          "base_uri": "https://localhost:8080/"
        },
        "id": "MVtD_JvJDZed",
        "outputId": "465ba733-067b-4e18-b54a-646b117ca9cb"
      },
      "execution_count": 41,
      "outputs": [
        {
          "output_type": "stream",
          "name": "stdout",
          "text": [
            "Hello, World!\n",
            "Appended text.\n"
          ]
        }
      ]
    },
    {
      "cell_type": "markdown",
      "source": [
        "21. Write a Python program that reads a file and prints the number of occurrences of a specific word."
      ],
      "metadata": {
        "id": "EKgIF3PcDisU"
      }
    },
    {
      "cell_type": "code",
      "source": [
        "word = \"Hello\"\n",
        "with open(\"example.txt\", \"r\") as file:\n",
        "    content = file.read()\n",
        "    count = content.lower().count(word.lower())\n",
        "    print(f\"The word '{word}' appears {count} times.\")\n"
      ],
      "metadata": {
        "colab": {
          "base_uri": "https://localhost:8080/"
        },
        "id": "fMX-yJMeDrmy",
        "outputId": "58d9798d-3999-4a46-fdeb-a7aa6f5750d6"
      },
      "execution_count": 43,
      "outputs": [
        {
          "output_type": "stream",
          "name": "stdout",
          "text": [
            "The word 'Hello' appears 1 times.\n"
          ]
        }
      ]
    },
    {
      "cell_type": "markdown",
      "source": [
        "22. How can you check if a file is empty before attempting to read its contents?"
      ],
      "metadata": {
        "id": "eMGCdQbREUbA"
      }
    },
    {
      "cell_type": "code",
      "source": [
        "import os\n",
        "\n",
        "if os.stat(\"example.txt\").st_size == 0:\n",
        "    print(\"File is empty.\")\n",
        "else:\n",
        "    with open(\"example.txt\", \"r\") as file:\n",
        "        print(file.read())\n"
      ],
      "metadata": {
        "colab": {
          "base_uri": "https://localhost:8080/"
        },
        "id": "KDkji7x_EeRf",
        "outputId": "3af563af-1e64-4529-9c5a-ca5a821a8e3d"
      },
      "execution_count": 44,
      "outputs": [
        {
          "output_type": "stream",
          "name": "stdout",
          "text": [
            "Hello, World!\n",
            "Appended text.\n"
          ]
        }
      ]
    },
    {
      "cell_type": "markdown",
      "source": [
        "23. Write a Python program that writes to a log file when an error occurs during file handling."
      ],
      "metadata": {
        "id": "RZb2KUJoErb4"
      }
    },
    {
      "cell_type": "code",
      "source": [
        "import logging\n",
        "\n",
        "logging.basicConfig(filename=\"file_errors.log\", level=logging.ERROR)\n",
        "\n",
        "try:\n",
        "    with open(\"nonexistent.txt\", \"r\") as file:\n",
        "        content = file.read()\n",
        "except FileNotFoundError as e:\n",
        "    logging.error(f\"File not found: {e}\")\n"
      ],
      "metadata": {
        "colab": {
          "base_uri": "https://localhost:8080/"
        },
        "id": "Q2PnE2_nEwKn",
        "outputId": "3ab6f28d-79cb-434e-aec1-7948602c59c3"
      },
      "execution_count": 45,
      "outputs": [
        {
          "output_type": "stream",
          "name": "stderr",
          "text": [
            "ERROR:root:File not found: [Errno 2] No such file or directory: 'nonexistent.txt'\n"
          ]
        }
      ]
    }
  ]
}