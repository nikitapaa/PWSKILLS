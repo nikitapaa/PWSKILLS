{
  "nbformat": 4,
  "nbformat_minor": 0,
  "metadata": {
    "colab": {
      "provenance": []
    },
    "kernelspec": {
      "name": "python3",
      "display_name": "Python 3"
    },
    "language_info": {
      "name": "python"
    }
  },
  "cells": [
    {
      "cell_type": "markdown",
      "source": [
        "Q/A"
      ],
      "metadata": {
        "id": "3Ug_Zteg8GJ4"
      }
    },
    {
      "cell_type": "markdown",
      "source": [
        "\n",
        "1. **What is statistics, and why is it important?**  \n",
        "   Statistics is the field of study that involves collecting, analyzing, interpreting, and presenting data. It is important because it helps in decision-making, identifying trends, and making predictions in various fields like business, healthcare, and social sciences.  \n",
        "\n",
        "2. **What are the two main types of statistics?**  \n",
        "   - **Descriptive Statistics**: Summarizes and describes data.  \n",
        "   - **Inferential Statistics**: Makes predictions and inferences based on data samples.  \n",
        "\n",
        "3. **What are descriptive statistics?**  \n",
        "   Descriptive statistics summarize and organize data using measures such as mean, median, mode, range, variance, and standard deviation.  \n",
        "\n",
        "4. **What is inferential statistics?**  \n",
        "   Inferential statistics uses sample data to make generalizations or predictions about a larger population. It involves hypothesis testing, confidence intervals, and regression analysis.  \n",
        "\n",
        "5. **What is sampling in statistics?**  \n",
        "   Sampling is the process of selecting a subset of individuals from a population to analyze and draw conclusions about the whole population.  \n",
        "\n",
        "6. **What are the different types of sampling methods?**  \n",
        "   - **Probability Sampling**: Simple random, stratified, systematic, cluster sampling.  \n",
        "   - **Non-Probability Sampling**: Convenience, judgmental, quota, snowball sampling.  \n",
        "\n",
        "7. **What is the difference between random and non-random sampling?**  \n",
        "   - **Random Sampling**: Every individual has an equal chance of being selected, reducing bias.  \n",
        "   - **Non-Random Sampling**: Selection is based on non-random criteria, which may introduce bias.  \n",
        "\n",
        "8. **Define and give examples of qualitative and quantitative data.**  \n",
        "   - **Qualitative Data**: Descriptive, categorical (e.g., colors, names, labels).  \n",
        "   - **Quantitative Data**: Numerical (e.g., height, weight, age).  \n",
        "\n",
        "9. **What are the different types of data in statistics?**  \n",
        "   - **Categorical Data**: Nominal and ordinal.  \n",
        "   - **Numerical Data**: Discrete and continuous.  \n",
        "\n",
        "10. **Explain nominal, ordinal, interval, and ratio levels of measurement.**  \n",
        "   - **Nominal**: Categories without order (e.g., colors, gender).  \n",
        "   - **Ordinal**: Ordered categories without fixed intervals (e.g., rankings).  \n",
        "   - **Interval**: Ordered with equal intervals, but no true zero (e.g., temperature in Celsius).  \n",
        "   - **Ratio**: Ordered with equal intervals and a true zero (e.g., weight, height).  \n",
        "\n",
        "11. **What is the measure of central tendency?**  \n",
        "   It is a statistical measure that identifies a central value within a dataset (mean, median, mode).  \n",
        "\n",
        "12. **Define mean, median, and mode.**  \n",
        "   - **Mean**: Average of the dataset.  \n",
        "   - **Median**: Middle value when data is ordered.  \n",
        "   - **Mode**: Most frequently occurring value.  \n",
        "\n",
        "13. **What is the significance of the measure of central tendency?**  \n",
        "   It helps summarize a dataset with a single value that represents its center.  \n",
        "\n",
        "14. **What is variance, and how is it calculated?**  \n",
        "   Variance measures how far data points are from the mean. It is calculated as the average of squared differences from the mean.  \n",
        "\n",
        "15. **What is standard deviation, and why is it important?**  \n",
        "   Standard deviation is the square root of variance. It measures data dispersion and helps understand the spread of values in a dataset.  \n",
        "\n",
        "16. **Define and explain the term range in statistics.**  \n",
        "   The range is the difference between the highest and lowest values in a dataset.  \n",
        "\n",
        "17. **What is the difference between variance and standard deviation?**  \n",
        "   Variance is the squared measure of dispersion, while standard deviation is its square root and provides a more interpretable scale.  \n",
        "\n",
        "18. **What is skewness in a dataset?**  \n",
        "   Skewness describes the asymmetry of a dataset’s distribution.  \n",
        "\n",
        "19. **What does it mean if a dataset is positively or negatively skewed?**  \n",
        "   - **Positively Skewed**: Right tail is longer, with most values on the left.  \n",
        "   - **Negatively Skewed**: Left tail is longer, with most values on the right.  \n",
        "\n",
        "20. **Define and explain kurtosis.**  \n",
        "   Kurtosis measures the shape of a distribution’s tails relative to a normal distribution. High kurtosis means heavy tails, and low kurtosis means light tails.  \n",
        "\n",
        "21. **What is the purpose of covariance?**  \n",
        "   Covariance measures the directional relationship between two variables. A positive value means they move together, while a negative value means they move inversely.  \n",
        "\n",
        "22. **What does correlation measure in statistics?**  \n",
        "   Correlation quantifies the strength and direction of a linear relationship between two variables.  \n",
        "\n",
        "23. **What is the difference between covariance and correlation?**  \n",
        "   - Covariance indicates direction but not strength.  \n",
        "   - Correlation standardizes covariance, showing both direction and strength on a scale of -1 to 1.  \n",
        "\n",
        "24. **What are some real-world applications of statistics?**  \n",
        "   - Business: Market analysis and forecasting.  \n",
        "   - Healthcare: Disease prediction and treatment effectiveness.  \n",
        "   - Social Sciences: Survey analysis and population studies.  \n",
        "   - Engineering: Quality control and risk assessment.  \n"
      ],
      "metadata": {
        "id": "WPNTkAIi8L5q"
      }
    },
    {
      "cell_type": "markdown",
      "source": [
        "PRACTICAL"
      ],
      "metadata": {
        "id": "x8-wuc3wP60J"
      }
    },
    {
      "cell_type": "markdown",
      "source": [
        "1. How do you calculate the mean, median, and mode of a dataset?"
      ],
      "metadata": {
        "id": "cKxKBmohjTaS"
      }
    },
    {
      "cell_type": "markdown",
      "source": [
        "Calculating Mean, Median, and Mode\n",
        "\n",
        "Mean = Sum of all values / Number of values\n",
        "\n",
        "Median = Middle value when sorted (or average of two middle values if even count)\n",
        "\n",
        "Mode = Most frequently occurring value\n",
        "\n"
      ],
      "metadata": {
        "id": "vWK8PDUFjdrt"
      }
    },
    {
      "cell_type": "code",
      "source": [
        "2. Write a Python program to compute the variance and standard deviation of a dataset."
      ],
      "metadata": {
        "id": "UHoUHbHDja9_"
      },
      "execution_count": null,
      "outputs": []
    },
    {
      "cell_type": "code",
      "source": [
        "import numpy as np\n",
        "\n",
        "data = [10, 20, 30, 40, 50]\n",
        "variance = np.var(data, ddof=1)  # Sample variance\n",
        "std_dev = np.std(data, ddof=1)  # Sample standard deviation\n",
        "\n",
        "print(f\"Variance: {variance}\")\n",
        "print(f\"Standard Deviation: {std_dev}\")\n"
      ],
      "metadata": {
        "colab": {
          "base_uri": "https://localhost:8080/"
        },
        "id": "dhzPARhrjmhH",
        "outputId": "24b86008-0d9c-431a-ec9a-d2b9a38d5ac6"
      },
      "execution_count": 8,
      "outputs": [
        {
          "output_type": "stream",
          "name": "stdout",
          "text": [
            "Variance: 250.0\n",
            "Standard Deviation: 15.811388300841896\n"
          ]
        }
      ]
    },
    {
      "cell_type": "markdown",
      "source": [
        "3. Create a dataset and classify it into nominal, ordinal, interval, and ratio types."
      ],
      "metadata": {
        "id": "6IH1x1UEjwlx"
      }
    },
    {
      "cell_type": "code",
      "source": [
        "Nominal = [\"Red\", \"Blue\", \"Green\"]\n",
        "Ordinal = [\"Low\", \"Medium\", \"High\"]\n",
        "Interval = [10, 20, 30, 40] # Store the temperatures directly in the Interval variable\n",
        "Ratio = [150, 160, 170, 180]\n",
        "\n",
        "# You can add comments to describe the data if needed\n",
        "# Interval: Temperatures in Celsius\n",
        "# Ratio: Heights in cm"
      ],
      "metadata": {
        "id": "pQ1vgP8Hj164"
      },
      "execution_count": 4,
      "outputs": []
    },
    {
      "cell_type": "markdown",
      "source": [
        "4. Implement sampling techniques like random sampling and stratified sampling."
      ],
      "metadata": {
        "id": "KMnzJfYSl0MW"
      }
    },
    {
      "cell_type": "code",
      "source": [
        "import numpy as np\n",
        "import pandas as pd\n",
        "from sklearn.model_selection import train_test_split\n",
        "\n",
        "data = np.arange(1, 101)  # 100 data points\n",
        "random_sample = np.random.choice(data, size=10, replace=False)  # Random sampling\n",
        "\n",
        "df = pd.DataFrame({'Category': ['A'] * 50 + ['B'] * 50, 'Value': np.arange(1, 101)})\n",
        "stratified_sample = df.groupby('Category', group_keys=False).apply(lambda x: x.sample(5))\n",
        "\n",
        "print(\"Random Sample:\", random_sample)\n",
        "print(\"\\nStratified Sample:\\n\", stratified_sample)\n"
      ],
      "metadata": {
        "colab": {
          "base_uri": "https://localhost:8080/"
        },
        "id": "pzluEnokl4lc",
        "outputId": "b286e933-51c2-4d26-a474-594455996a84"
      },
      "execution_count": 5,
      "outputs": [
        {
          "output_type": "stream",
          "name": "stdout",
          "text": [
            "Random Sample: [72  4  3 12 54 30 82 41 40 95]\n",
            "\n",
            "Stratified Sample:\n",
            "    Category  Value\n",
            "8         A      9\n",
            "25        A     26\n",
            "16        A     17\n",
            "36        A     37\n",
            "1         A      2\n",
            "59        B     60\n",
            "62        B     63\n",
            "85        B     86\n",
            "90        B     91\n",
            "93        B     94\n"
          ]
        },
        {
          "output_type": "stream",
          "name": "stderr",
          "text": [
            "<ipython-input-5-33e80a532461>:9: DeprecationWarning: DataFrameGroupBy.apply operated on the grouping columns. This behavior is deprecated, and in a future version of pandas the grouping columns will be excluded from the operation. Either pass `include_groups=False` to exclude the groupings or explicitly select the grouping columns after groupby to silence this warning.\n",
            "  stratified_sample = df.groupby('Category', group_keys=False).apply(lambda x: x.sample(5))\n"
          ]
        }
      ]
    },
    {
      "cell_type": "markdown",
      "source": [
        "5. Write a Python function to calculate the range of a dataset."
      ],
      "metadata": {
        "id": "AKx2XeDwmCp9"
      }
    },
    {
      "cell_type": "code",
      "source": [
        "def calculate_range(data):\n",
        "    return max(data) - min(data)\n",
        "\n",
        "dataset = [3, 7, 2, 9, 10]\n",
        "print(\"Range:\", calculate_range(dataset))\n"
      ],
      "metadata": {
        "colab": {
          "base_uri": "https://localhost:8080/"
        },
        "id": "rrhW0GBOmG19",
        "outputId": "4db8cc9f-a6d1-4f31-a545-eec9955ee2d1"
      },
      "execution_count": 6,
      "outputs": [
        {
          "output_type": "stream",
          "name": "stdout",
          "text": [
            "Range: 8\n"
          ]
        }
      ]
    },
    {
      "cell_type": "markdown",
      "source": [
        "6. Create a dataset and plot its histogram to visualize skewness."
      ],
      "metadata": {
        "id": "yw7Lj-Q5mntV"
      }
    },
    {
      "cell_type": "code",
      "source": [
        "import matplotlib.pyplot as plt\n",
        "\n",
        "data = [10, 20, 20, 30, 40, 50, 60, 70, 80, 100, 200]  # Right-skewed\n",
        "plt.hist(data, bins=10, edgecolor='black')\n",
        "plt.title(\"Histogram\")\n",
        "plt.show()\n"
      ],
      "metadata": {
        "colab": {
          "base_uri": "https://localhost:8080/",
          "height": 452
        },
        "id": "cbyM1QMjmrEB",
        "outputId": "d6664513-483a-42bf-f932-b9f4893aa1e6"
      },
      "execution_count": 9,
      "outputs": [
        {
          "output_type": "display_data",
          "data": {
            "text/plain": [
              "<Figure size 640x480 with 1 Axes>"
            ],
            "image/png": "[encoded data removed]"
          },
          "metadata": {}
        }
      ]
    },
    {
      "cell_type": "markdown",
      "source": [
        "7. Calculate skewness and kurtosis of a dataset using Python libraries."
      ],
      "metadata": {
        "id": "-yij1uiBmKXd"
      }
    },
    {
      "cell_type": "code",
      "source": [
        "from scipy.stats import skew, kurtosis\n",
        "\n",
        "data = [10, 20, 20, 30, 40, 50, 60, 70, 80, 100, 200]\n",
        "print(\"Skewness:\", skew(data))\n",
        "print(\"Kurtosis:\", kurtosis(data))\n"
      ],
      "metadata": {
        "colab": {
          "base_uri": "https://localhost:8080/"
        },
        "id": "0t_K2XvKm0x5",
        "outputId": "23cd8ee8-77fb-4828-8405-3aef7582b5e1"
      },
      "execution_count": 10,
      "outputs": [
        {
          "output_type": "stream",
          "name": "stdout",
          "text": [
            "Skewness: 1.6120176068701773\n",
            "Kurtosis: 2.071246769519931\n"
          ]
        }
      ]
    },
    {
      "cell_type": "markdown",
      "source": [
        "8. Generate a dataset and demonstrate positive and negative skewness."
      ],
      "metadata": {
        "id": "wgnTlNivm4bO"
      }
    },
    {
      "cell_type": "code",
      "source": [
        "import numpy as np\n",
        "\n",
        "pos_skewed = np.random.exponential(scale=2, size=1000)  # Right skew\n",
        "neg_skewed = -1 * np.random.exponential(scale=2, size=1000)  # Left skew\n"
      ],
      "metadata": {
        "id": "Iebc_W3Qm9BF"
      },
      "execution_count": 11,
      "outputs": []
    },
    {
      "cell_type": "markdown",
      "source": [
        "9. Write a Python script to calculate covariance between two datasets."
      ],
      "metadata": {
        "id": "RM2XHIpunJFg"
      }
    },
    {
      "cell_type": "code",
      "source": [
        "data_x = [1, 2, 3, 4, 5]\n",
        "data_y = [2, 4, 6, 8, 10]\n",
        "\n",
        "cov_matrix = np.cov(data_x, data_y)\n",
        "print(\"Covariance:\\n\", cov_matrix)\n"
      ],
      "metadata": {
        "colab": {
          "base_uri": "https://localhost:8080/"
        },
        "id": "ZtUjG-4tnOQN",
        "outputId": "87beeb57-80f0-43ff-f904-5d7f71f1787c"
      },
      "execution_count": 12,
      "outputs": [
        {
          "output_type": "stream",
          "name": "stdout",
          "text": [
            "Covariance:\n",
            " [[ 2.5  5. ]\n",
            " [ 5.  10. ]]\n"
          ]
        }
      ]
    },
    {
      "cell_type": "markdown",
      "source": [
        "10. Write a Python script to calculate the correlation coefficient between two datasets."
      ],
      "metadata": {
        "id": "QWB6bjx3nRc0"
      }
    },
    {
      "cell_type": "code",
      "source": [
        "from scipy.stats import pearsonr\n",
        "\n",
        "corr, _ = pearsonr(data_x, data_y)\n",
        "print(\"Correlation Coefficient:\", corr)\n"
      ],
      "metadata": {
        "colab": {
          "base_uri": "https://localhost:8080/"
        },
        "id": "hp0mbWXlnU_-",
        "outputId": "7060a7de-ac23-49a0-b0d7-e03646a1d5e3"
      },
      "execution_count": 13,
      "outputs": [
        {
          "output_type": "stream",
          "name": "stdout",
          "text": [
            "Correlation Coefficient: 1.0\n"
          ]
        }
      ]
    },
    {
      "cell_type": "markdown",
      "source": [
        "11. Create a scatter plot to visualize the relationship between two variables."
      ],
      "metadata": {
        "id": "LvSzOAlVnbEi"
      }
    },
    {
      "cell_type": "code",
      "source": [
        "plt.scatter(data_x, data_y)\n",
        "plt.xlabel(\"X values\")\n",
        "plt.ylabel(\"Y values\")\n",
        "plt.title(\"Scatter Plot\")\n",
        "plt.show()\n"
      ],
      "metadata": {
        "colab": {
          "base_uri": "https://localhost:8080/",
          "height": 472
        },
        "id": "CxOpHPyxnbzd",
        "outputId": "bb3f2bd1-d4c7-4212-97e2-052a1cd5f88e"
      },
      "execution_count": 14,
      "outputs": [
        {
          "output_type": "display_data",
          "data": {
            "text/plain": [
              "<Figure size 640x480 with 1 Axes>"
            ],
            "image/png": "[encoded data removed]"
          },
          "metadata": {}
        }
      ]
    },
    {
      "cell_type": "markdown",
      "source": [
        "12. Implement and compare simple random sampling and systematic sampling."
      ],
      "metadata": {
        "id": "DerQ1fyanfvQ"
      }
    },
    {
      "cell_type": "code",
      "source": [
        "def systematic_sampling(data, step):\n",
        "    return data[::step]\n",
        "\n",
        "dataset = np.arange(1, 101)\n",
        "sys_sample = systematic_sampling(dataset, 10)\n",
        "print(\"Systematic Sample:\", sys_sample)\n"
      ],
      "metadata": {
        "colab": {
          "base_uri": "https://localhost:8080/"
        },
        "id": "DSZJYUP_ni1W",
        "outputId": "ae92f4a4-5a6a-40d5-ac7c-ef4ce8f1cabf"
      },
      "execution_count": 15,
      "outputs": [
        {
          "output_type": "stream",
          "name": "stdout",
          "text": [
            "Systematic Sample: [ 1 11 21 31 41 51 61 71 81 91]\n"
          ]
        }
      ]
    },
    {
      "cell_type": "markdown",
      "source": [
        "13. Calculate the mean, median, and mode of grouped data."
      ],
      "metadata": {
        "id": "v9u9jwecnl3i"
      }
    },
    {
      "cell_type": "code",
      "source": [
        "import statistics as stats\n",
        "\n",
        "data = [10, 10, 20, 30, 30, 30, 40, 50]\n",
        "print(\"Mean:\", stats.mean(data))\n",
        "print(\"Median:\", stats.median(data))\n",
        "print(\"Mode:\", stats.mode(data))\n"
      ],
      "metadata": {
        "colab": {
          "base_uri": "https://localhost:8080/"
        },
        "id": "sZVRWzj8nq0q",
        "outputId": "ff55af44-efc3-4de4-a873-2839f492e7d8"
      },
      "execution_count": 16,
      "outputs": [
        {
          "output_type": "stream",
          "name": "stdout",
          "text": [
            "Mean: 27.5\n",
            "Median: 30.0\n",
            "Mode: 30\n"
          ]
        }
      ]
    },
    {
      "cell_type": "markdown",
      "source": [
        "14. Simulate data using Python and calculate its central tendency and dispersion."
      ],
      "metadata": {
        "id": "WvRkFxzPntzt"
      }
    },
    {
      "cell_type": "code",
      "source": [
        "simulated_data = np.random.normal(loc=50, scale=15, size=1000)\n",
        "\n",
        "print(\"Mean:\", np.mean(simulated_data))\n",
        "print(\"Median:\", np.median(simulated_data))\n",
        "print(\"Standard Deviation:\", np.std(simulated_data))\n"
      ],
      "metadata": {
        "colab": {
          "base_uri": "https://localhost:8080/"
        },
        "id": "rQQTp3KUnxGW",
        "outputId": "41928b2c-0f41-43f0-fff0-1fe30982a33e"
      },
      "execution_count": 17,
      "outputs": [
        {
          "output_type": "stream",
          "name": "stdout",
          "text": [
            "Mean: 50.01950258671216\n",
            "Median: 50.261541566260306\n",
            "Standard Deviation: 15.372063584170592\n"
          ]
        }
      ]
    },
    {
      "cell_type": "markdown",
      "source": [
        "15. Use NumPy or pandas to summarize a dataset's descriptive statistics."
      ],
      "metadata": {
        "id": "mkGb47jVn4wz"
      }
    },
    {
      "cell_type": "code",
      "source": [
        "import pandas as pd\n",
        "import numpy as np\n",
        "\n",
        "# Sample dataset\n",
        "data = pd.DataFrame({'A': np.random.randint(1, 100, 50), 'B': np.random.randint(1, 100, 50)})\n",
        "\n",
        "# Descriptive statistics summary\n",
        "print(data.describe())\n"
      ],
      "metadata": {
        "colab": {
          "base_uri": "https://localhost:8080/"
        },
        "id": "3OfqHou0n-U4",
        "outputId": "0d56996a-050a-44e5-cfde-860e6059e703"
      },
      "execution_count": 18,
      "outputs": [
        {
          "output_type": "stream",
          "name": "stdout",
          "text": [
            "               A          B\n",
            "count  50.000000  50.000000\n",
            "mean   53.440000  54.220000\n",
            "std    26.119943  27.703451\n",
            "min     3.000000   2.000000\n",
            "25%    33.000000  35.000000\n",
            "50%    59.500000  62.000000\n",
            "75%    74.750000  72.750000\n",
            "max    95.000000  99.000000\n"
          ]
        }
      ]
    },
    {
      "cell_type": "markdown",
      "source": [
        "16. Plot a boxplot to understand the spread and identify outliers."
      ],
      "metadata": {
        "id": "C_yisRCRoA9I"
      }
    },
    {
      "cell_type": "code",
      "source": [
        "import matplotlib.pyplot as plt\n",
        "import seaborn as sns\n",
        "\n",
        "sns.boxplot(data=data)\n",
        "plt.title(\"Boxplot of Dataset\")\n",
        "plt.show()\n"
      ],
      "metadata": {
        "colab": {
          "base_uri": "https://localhost:8080/",
          "height": 452
        },
        "id": "7BcMAz4ioE4N",
        "outputId": "56c4b903-d0b6-4124-adb5-ceb19ee6b156"
      },
      "execution_count": 19,
      "outputs": [
        {
          "output_type": "display_data",
          "data": {
            "text/plain": [
              "<Figure size 640x480 with 1 Axes>"
            ],
            "image/png": "[encoded data removed]"
          },
          "metadata": {}
        }
      ]
    },
    {
      "cell_type": "markdown",
      "source": [
        "17. Calculate the interquartile range (IQR) of a dataset."
      ],
      "metadata": {
        "id": "JnebFVbxoICS"
      }
    },
    {
      "cell_type": "code",
      "source": [
        "Q1 = data.quantile(0.25)\n",
        "Q3 = data.quantile(0.75)\n",
        "IQR = Q3 - Q1\n",
        "print(\"Interquartile Range:\\n\", IQR)\n"
      ],
      "metadata": {
        "colab": {
          "base_uri": "https://localhost:8080/"
        },
        "id": "CnrEIwkMoLok",
        "outputId": "5d3a73bd-9e00-4f70-b0d1-9fd513c85752"
      },
      "execution_count": 20,
      "outputs": [
        {
          "output_type": "stream",
          "name": "stdout",
          "text": [
            "Interquartile Range:\n",
            " A    41.75\n",
            "B    37.75\n",
            "dtype: float64\n"
          ]
        }
      ]
    },
    {
      "cell_type": "markdown",
      "source": [
        "18. Implement Z-score normalization and explain its significance."
      ],
      "metadata": {
        "id": "DNfPJSC4oOgV"
      }
    },
    {
      "cell_type": "code",
      "source": [
        "from scipy.stats import zscore\n",
        "\n",
        "data_normalized = data.apply(zscore)\n",
        "print(data_normalized.head())\n"
      ],
      "metadata": {
        "colab": {
          "base_uri": "https://localhost:8080/"
        },
        "id": "C5P6gJf7oR00",
        "outputId": "1292be26-821b-4ae1-fe16-eb4e1404ad49"
      },
      "execution_count": 21,
      "outputs": [
        {
          "output_type": "stream",
          "name": "stdout",
          "text": [
            "          A         B\n",
            "0 -1.796003  0.538924\n",
            "1 -0.790489 -0.044485\n",
            "2 -1.950697  0.356609\n",
            "3  0.369720 -1.648859\n",
            "4 -1.641308 -0.336189\n"
          ]
        }
      ]
    },
    {
      "cell_type": "markdown",
      "source": [
        "19. Compare two datasets using their standard deviations."
      ],
      "metadata": {
        "id": "c24BpLChoUY7"
      }
    },
    {
      "cell_type": "code",
      "source": [
        "data1 = np.random.randint(1, 100, 50)\n",
        "data2 = np.random.randint(1, 200, 50)\n",
        "\n",
        "std1 = np.std(data1)\n",
        "std2 = np.std(data2)\n",
        "\n",
        "print(f\"Standard Deviation of Dataset 1: {std1}\")\n",
        "print(f\"Standard Deviation of Dataset 2: {std2}\")\n",
        "\n",
        "if std1 > std2:\n",
        "    print(\"Dataset 1 has greater variability.\")\n",
        "else:\n",
        "    print(\"Dataset 2 has greater variability.\")\n"
      ],
      "metadata": {
        "colab": {
          "base_uri": "https://localhost:8080/"
        },
        "id": "F3NvKNNkoXrh",
        "outputId": "7b28cf60-7690-45a3-c41e-e8c4590955fa"
      },
      "execution_count": 22,
      "outputs": [
        {
          "output_type": "stream",
          "name": "stdout",
          "text": [
            "Standard Deviation of Dataset 1: 28.798083269551118\n",
            "Standard Deviation of Dataset 2: 63.0558482616799\n",
            "Dataset 2 has greater variability.\n"
          ]
        }
      ]
    },
    {
      "cell_type": "markdown",
      "source": [
        "20. Write a Python program to visualize covariance using a heatmap."
      ],
      "metadata": {
        "id": "KodNHrYAoahq"
      }
    },
    {
      "cell_type": "code",
      "source": [
        "import seaborn as sns\n",
        "\n",
        "cov_matrix = data.cov()\n",
        "sns.heatmap(cov_matrix, annot=True, cmap='coolwarm')\n",
        "plt.title(\"Covariance Heatmap\")\n",
        "plt.show()\n"
      ],
      "metadata": {
        "colab": {
          "base_uri": "https://localhost:8080/",
          "height": 452
        },
        "id": "P1l5en55oejX",
        "outputId": "8e6208a9-5862-4142-dcf7-198a796a2f01"
      },
      "execution_count": 23,
      "outputs": [
        {
          "output_type": "display_data",
          "data": {
            "text/plain": [
              "<Figure size 640x480 with 2 Axes>"
            ],
            "image/png": "[encoded data removed]"
          },
          "metadata": {}
        }
      ]
    },
    {
      "cell_type": "markdown",
      "source": [
        "21. Use seaborn to create a correlation matrix for a dataset."
      ],
      "metadata": {
        "id": "T8jrV__ioiDN"
      }
    },
    {
      "cell_type": "code",
      "source": [
        "corr_matrix = data.corr()\n",
        "sns.heatmap(corr_matrix, annot=True, cmap='coolwarm')\n",
        "plt.title(\"Correlation Matrix\")\n",
        "plt.show()\n"
      ],
      "metadata": {
        "colab": {
          "base_uri": "https://localhost:8080/",
          "height": 452
        },
        "id": "w3LHs4OColUZ",
        "outputId": "bf47ace4-5a6c-4663-be92-64cb173b5911"
      },
      "execution_count": 24,
      "outputs": [
        {
          "output_type": "display_data",
          "data": {
            "text/plain": [
              "<Figure size 640x480 with 2 Axes>"
            ],
            "image/png": "[encoded data removed]"
          },
          "metadata": {}
        }
      ]
    },
    {
      "cell_type": "markdown",
      "source": [
        "22. Generate a dataset and implement both variance and standard deviation computations."
      ],
      "metadata": {
        "id": "Y5DH-ZHiooQx"
      }
    },
    {
      "cell_type": "code",
      "source": [
        "generated_data = np.random.randint(1, 100, 50)\n",
        "\n",
        "variance = np.var(generated_data, ddof=1)\n",
        "std_dev = np.std(generated_data, ddof=1)\n",
        "\n",
        "print(f\"Variance: {variance}\")\n",
        "print(f\"Standard Deviation: {std_dev}\")\n"
      ],
      "metadata": {
        "colab": {
          "base_uri": "https://localhost:8080/"
        },
        "id": "lIB8aljMos4z",
        "outputId": "22361a05-6945-4010-e775-248369db67fe"
      },
      "execution_count": 25,
      "outputs": [
        {
          "output_type": "stream",
          "name": "stdout",
          "text": [
            "Variance: 879.1902040816326\n",
            "Standard Deviation: 29.651141699462983\n"
          ]
        }
      ]
    },
    {
      "cell_type": "markdown",
      "source": [
        "23. Visualize skewness and kurtosis using Python libraries like matplotlib or seaborn."
      ],
      "metadata": {
        "id": "MAW7Lo12ov0r"
      }
    },
    {
      "cell_type": "code",
      "source": [
        "from scipy.stats import skew, kurtosis\n",
        "\n",
        "sns.histplot(generated_data, kde=True, bins=10)\n",
        "plt.title(\"Histogram with KDE\")\n",
        "plt.show()\n",
        "\n",
        "print(\"Skewness:\", skew(generated_data))\n",
        "print(\"Kurtosis:\", kurtosis(generated_data))\n"
      ],
      "metadata": {
        "colab": {
          "base_uri": "https://localhost:8080/",
          "height": 487
        },
        "id": "2pftDXH3ozsl",
        "outputId": "2d5fad88-f075-478a-987a-9eca42d47412"
      },
      "execution_count": 26,
      "outputs": [
        {
          "output_type": "display_data",
          "data": {
            "text/plain": [
              "<Figure size 640x480 with 1 Axes>"
            ],
            "image/png": "[encoded data removed]"
          },
          "metadata": {}
        },
        {
          "output_type": "stream",
          "name": "stdout",
          "text": [
            "Skewness: 0.22959746531805947\n",
            "Kurtosis: -1.091950374398143\n"
          ]
        }
      ]
    },
    {
      "cell_type": "markdown",
      "source": [
        "24. Implement the Pearson and Spearman correlation coefficients for a dataset"
      ],
      "metadata": {
        "id": "28LwA9bVo2tk"
      }
    },
    {
      "cell_type": "code",
      "source": [
        "from scipy.stats import pearsonr, spearmanr\n",
        "\n",
        "# Generating two correlated datasets\n",
        "data_x = np.random.randint(1, 100, 50)\n",
        "data_y = data_x + np.random.randint(1, 10, 50)  # Adding slight variation\n",
        "\n",
        "pearson_corr, _ = pearsonr(data_x, data_y)\n",
        "spearman_corr, _ = spearmanr(data_x, data_y)\n",
        "\n",
        "print(f\"Pearson Correlation: {pearson_corr}\")\n",
        "print(f\"Spearman Correlation: {spearman_corr}\")\n"
      ],
      "metadata": {
        "colab": {
          "base_uri": "https://localhost:8080/"
        },
        "id": "zLHfREQro6I7",
        "outputId": "5d5866c3-8160-4428-b089-60f5ee5e4792"
      },
      "execution_count": 27,
      "outputs": [
        {
          "output_type": "stream",
          "name": "stdout",
          "text": [
            "Pearson Correlation: 0.9939792613443384\n",
            "Spearman Correlation: 0.9924091518908592\n"
          ]
        }
      ]
    }
  ]
}