{
  "nbformat": 4,
  "nbformat_minor": 0,
  "metadata": {
    "colab": {
      "provenance": []
    },
    "kernelspec": {
      "name": "python3",
      "display_name": "Python 3"
    },
    "language_info": {
      "name": "python"
    }
  },
  "cells": [
    {
      "cell_type": "markdown",
      "source": [
        "## **1. What is Python, and why is it popular?**\n",
        "Python is a high-level, interpreted programming language known for its simplicity and readability. It is popular because:\n",
        "\n",
        "It has a clear and easy-to-read syntax.\n",
        "It supports multiple programming paradigms (OOP, procedural, functional).\n",
        "It has a large ecosystem of libraries (e.g., NumPy, Pandas, TensorFlow).\n",
        "It is widely used in web development, data science, AI, and automation"
      ],
      "metadata": {
        "id": "YE4Am8amExi2"
      }
    },
    {
      "cell_type": "markdown",
      "source": [
        "# **2. What is an interpreter in Python?**\n",
        "An interpreter is a program that executes Python code line by line. Unlike compiled languages, where the code is translated into machine code all at once, an interpreter processes code in a step-by-step manner. This allows for easy debugging and testing, though it may result in slower execution compared to compiled languages."
      ],
      "metadata": {
        "id": "lCfWs4E8Fa53"
      }
    },
    {
      "cell_type": "markdown",
      "source": [
        "# **3. What are pre-defined keywords in Python?**\n",
        "Pre-defined keywords in Python are reserved words that have specific meanings and functionality within the language. These keywords are fundamental to Python's syntax and cannot be used as variable names. Examples include control flow keywords like if, else, and elif; function-related keywords such as def, return, and lambda; and boolean keywords like True, False, and None. These keywords serve to define the structure and behavior of Python programs."
      ],
      "metadata": {
        "id": "CqjkmgyDF8L1"
      }
    },
    {
      "cell_type": "markdown",
      "source": [
        "# **4. Can keywords be used as variable names?**\n",
        "No, keywords in Python cannot be used as variable names. Keywords are reserved for specific functionality within the language, and attempting to use them as identifiers will result in a syntax error. This ensures that the core functionality of the language is preserved and that the code is both readable and predictable."
      ],
      "metadata": {
        "id": "Fkua9TaKGIxI"
      }
    },
    {
      "cell_type": "markdown",
      "source": [
        "# **5. What is mutability in Python?**\n",
        "Mutability refers to whether an object can be changed after it has been created. In Python, some objects are mutable, meaning their content can be modified, while others are immutable, meaning their content cannot be changed once they are created. Mutable objects include lists, dictionaries, and sets, whereas immutable objects include integers, floats, strings, and tuples"
      ],
      "metadata": {
        "id": "gvqfYuWeGSv2"
      }
    },
    {
      "cell_type": "markdown",
      "source": [
        "## **6. Why are lists mutable, but tuples are immutable?**\n",
        "Lists are mutable because they are implemented in such a way that their elements can be changed or modified after creation. This design allows for greater flexibility when working with data. On the other hand, tuples are immutable because they are stored as a single memory block, making them more efficient in terms of performance. The immutability of tuples also ensures data integrity, especially in situations where the data should not be accidentally modified"
      ],
      "metadata": {
        "id": "6-5HdwwpGbR2"
      }
    },
    {
      "cell_type": "markdown",
      "source": [
        "# **7. What is the difference between == and is operators in Python?**\n",
        "The == operator checks whether the values of two objects are equal, meaning it compares their content. The is operator, however, checks whether two objects refer to the same memory location, i.e., if they are identical objects in memory. While == compares values, is compares object identities, which may or may not be the same, even if the values are equal."
      ],
      "metadata": {
        "id": "HIumQlPxGmT0"
      }
    },
    {
      "cell_type": "markdown",
      "source": [
        "# **8. What are logical operators in Python?**\n",
        "Logical operators are used to combine multiple conditions in Python. They include and, or, and not. The and operator returns True if both conditions are true, while or returns True if at least one condition is true. The not operator inverts the Boolean value of a condition, making True become False and vice versa.\n",
        "\n"
      ],
      "metadata": {
        "id": "XfZfKqyVGtVF"
      }
    },
    {
      "cell_type": "markdown",
      "source": [
        "# **9. What is type casting in Python?**\n",
        "Type casting is the process of converting a variable from one data type to another. In Python, this can be done implicitly or explicitly. Implicit type casting happens automatically when Python converts a smaller or simpler type to a larger or more complex type, such as converting an integer to a float. Explicit type casting requires the programmer to manually convert a variable using built-in functions like int(), float(), or str()."
      ],
      "metadata": {
        "id": "mjnnlj0hGzD1"
      }
    },
    {
      "cell_type": "markdown",
      "source": [
        "# **10. What is the difference between implicit and explicit type casting?**\n",
        "Implicit type casting occurs automatically when Python converts one data type to another, usually from a smaller or less precise type to a larger or more precise one, such as converting an integer to a float during arithmetic operations.\n",
        "\n",
        "Explicit type casting, on the other hand, requires the programmer to manually convert a value using functions such as int(), float(), or str(). Explicit casting allows for more control over the data type conversion process"
      ],
      "metadata": {
        "id": "wMlZq8NGG6AM"
      }
    },
    {
      "cell_type": "markdown",
      "source": [
        "# **11. What is the purpose of conditional statements in Python?**\n",
        "Conditional statements control the flow of execution based on conditions. The main statements are:\n",
        "\n",
        "if: Executes a block if the condition is True.\n",
        "\n",
        "elif: Used for multiple conditions.\n",
        "\n",
        "else: Executes if no conditions match."
      ],
      "metadata": {
        "id": "uCNfQmAfHLAL"
      }
    },
    {
      "cell_type": "markdown",
      "source": [
        "# **12. How does the elif statement work?**\n",
        "The elif statement checks multiple conditions in an if-else block. It only runs when the previous conditions are False."
      ],
      "metadata": {
        "id": "J_yYlu8pHbHL"
      }
    },
    {
      "cell_type": "markdown",
      "source": [
        "# **13. What is the difference between for and while loops?**\n",
        "The main difference between for and while loops lies in how they control iteration. A for loop is typically used when the number of iterations is known in advance or can be determined by iterating over a sequence (such as a list or range). A while loop, however, runs as long as a specified condition remains true, and is often used when the number of iterations is not known upfront."
      ],
      "metadata": {
        "id": "O5X1VMN3HjTz"
      }
    },
    {
      "cell_type": "markdown",
      "source": [
        "# **14. Scenario where a while loop is more suitable than a for loop**\n",
        "A while loop is better when we don’t know the number of iterations beforehand\n",
        "\n"
      ],
      "metadata": {
        "id": "DHzUoBn3Hwq6"
      }
    },
    {
      "cell_type": "code",
      "source": [
        "#Example: Waiting for user input until a valid response\n",
        "\n",
        "user_input = \"\"\n",
        "while user_input.lower() != \"yes\":\n",
        "    user_input = input(\"Do you agree? (yes/no): \")\n",
        "print(\"Thank you!\")\n",
        "#Here, we don’t know how many times the loop will run, so a while loop is more appropriate than a for loop"
      ],
      "metadata": {
        "id": "4KevuE0PID3f"
      },
      "execution_count": null,
      "outputs": []
    },
    {
      "cell_type": "markdown",
      "source": [
        "# **# PRACTICAL** **QUESTIONS**"
      ],
      "metadata": {
        "id": "M9pRfy8oIpVH"
      }
    },
    {
      "cell_type": "markdown",
      "source": [
        "# **1. Write a Python program to print \"Hello, World!_**"
      ],
      "metadata": {
        "id": "izUrxcrSJaGE"
      }
    },
    {
      "cell_type": "code",
      "source": [
        "print(\"Hello, World!\")\n"
      ],
      "metadata": {
        "colab": {
          "base_uri": "https://localhost:8080/"
        },
        "id": "hIL5xFNKInOI",
        "outputId": "2677563a-7979-4a1c-c4a3-1c475630fd44"
      },
      "execution_count": 1,
      "outputs": [
        {
          "output_type": "stream",
          "name": "stdout",
          "text": [
            "Hello, World!\n"
          ]
        }
      ]
    },
    {
      "cell_type": "markdown",
      "source": [
        "# **2. Write a Python program that displays your name and age0**"
      ],
      "metadata": {
        "id": "otkB4El1Jk8g"
      }
    },
    {
      "cell_type": "code",
      "source": [
        "name = \"Nikita\"\n",
        "age = 24\n",
        "print(f\"My name is {name} and I am {age} years old.\")"
      ],
      "metadata": {
        "colab": {
          "base_uri": "https://localhost:8080/"
        },
        "id": "owBMTv09JvZ0",
        "outputId": "4f672bfc-990b-4bc0-cbfe-f3f6dfce8078"
      },
      "execution_count": 2,
      "outputs": [
        {
          "output_type": "stream",
          "name": "stdout",
          "text": [
            "My name is Nikita and I am 24 years old.\n"
          ]
        }
      ]
    },
    {
      "cell_type": "markdown",
      "source": [
        "# **3. Write code to print all the pre-defined keywords in Python using the keyword library0**"
      ],
      "metadata": {
        "id": "pqybRCD-KHC8"
      }
    },
    {
      "cell_type": "code",
      "source": [
        "import keyword\n",
        "print(keyword.kwlist)\n"
      ],
      "metadata": {
        "colab": {
          "base_uri": "https://localhost:8080/"
        },
        "id": "t5ZE8lEvKO9A",
        "outputId": "35c4f710-978a-45be-8705-3c8117e2a611"
      },
      "execution_count": 3,
      "outputs": [
        {
          "output_type": "stream",
          "name": "stdout",
          "text": [
            "['False', 'None', 'True', 'and', 'as', 'assert', 'async', 'await', 'break', 'class', 'continue', 'def', 'del', 'elif', 'else', 'except', 'finally', 'for', 'from', 'global', 'if', 'import', 'in', 'is', 'lambda', 'nonlocal', 'not', 'or', 'pass', 'raise', 'return', 'try', 'while', 'with', 'yield']\n"
          ]
        }
      ]
    },
    {
      "cell_type": "markdown",
      "source": [
        "# **4. Write a program that checks if a given word is a Python keyword**"
      ],
      "metadata": {
        "id": "n9F3h99jKZHh"
      }
    },
    {
      "cell_type": "code",
      "source": [
        "import keyword\n",
        "\n",
        "word = input(\"Enter a word to check if it's a Python keyword: \")\n",
        "if keyword.iskeyword(word):\n",
        "    print(f\"'{word}' is a Python keyword.\")\n",
        "else:\n",
        "    print(f\"'{word}' is not a Python keyword.\")"
      ],
      "metadata": {
        "colab": {
          "base_uri": "https://localhost:8080/"
        },
        "id": "2d5nMv-GKjTK",
        "outputId": "35873225-fdbb-427b-de1f-702cc0e535ba"
      },
      "execution_count": 6,
      "outputs": [
        {
          "output_type": "stream",
          "name": "stdout",
          "text": [
            "Enter a word to check if it's a Python keyword: break\n",
            "'break' is a Python keyword.\n"
          ]
        }
      ]
    },
    {
      "cell_type": "markdown",
      "source": [
        "# **5. Create a list and tuple in Python, and demonstrate how attempting to change an element works differently for each**"
      ],
      "metadata": {
        "id": "LNVfcDCnK_gG"
      }
    },
    {
      "cell_type": "code",
      "source": [
        "list= [1,2,3] #list is mutabke\n",
        "tuple= (1,2,3) #tuple is immutable\n",
        "list[0]= 4\n",
        "print(\"List modified\", list)\n",
        "if tuple[0] == 4:\n",
        "    print(\"Tuple modified\", tuple)\n",
        "else:\n",
        "    print(\"Tuple cannot be modified\")"
      ],
      "metadata": {
        "colab": {
          "base_uri": "https://localhost:8080/"
        },
        "id": "Du5nFDxyLQUA",
        "outputId": "4d627cac-c4f1-4e7b-cc5f-778473389368"
      },
      "execution_count": 10,
      "outputs": [
        {
          "output_type": "stream",
          "name": "stdout",
          "text": [
            "List modified [4, 2, 3]\n",
            "Tuple cannot be modified\n"
          ]
        }
      ]
    },
    {
      "cell_type": "markdown",
      "source": [
        "# **6 & 7. Write a function to demonstrate the behavior of mutable and immutable arguments**"
      ],
      "metadata": {
        "id": "CWBmFiRnMlJG"
      }
    },
    {
      "cell_type": "code",
      "source": [
        "def demonstrate_mutability(mutable_arg, immutable_arg):\n",
        "    # Modify the mutable argument (list)\n",
        "    mutable_arg.append(4)\n",
        "    print(f\"Mutable argument after modification: {mutable_arg}\")\n",
        "\n",
        "    # Attempt to modify the immutable argument (integer)\n",
        "    immutable_arg += 5\n",
        "    print(f\"Immutable argument after modification: {immutable_arg}\")\n",
        "\n",
        "# Calling the function with mutable (list) and immutable (integer) arguments\n",
        "mutable_list = [1, 2, 3]\n",
        "immutable_int = 10\n",
        "\n",
        "print(\"Before function call:\")\n",
        "print(f\"Mutable argument: {mutable_list}\")\n",
        "print(f\"Immutable argument: {immutable_int}\")\n",
        "\n",
        "# Calling the function\n",
        "demonstrate_mutability(mutable_list, immutable_int)\n",
        "\n",
        "print(\"\\nAfter function call:\")\n",
        "print(f\"Mutable argument: {mutable_list}\")\n",
        "print(f\"Immutable argument: {immutable_int}\")\n"
      ],
      "metadata": {
        "colab": {
          "base_uri": "https://localhost:8080/"
        },
        "id": "hr_DYxl6Mxry",
        "outputId": "596b47f7-b77a-4606-c142-2af00b6c7576"
      },
      "execution_count": 12,
      "outputs": [
        {
          "output_type": "stream",
          "name": "stdout",
          "text": [
            "Before function call:\n",
            "Mutable argument: [1, 2, 3]\n",
            "Immutable argument: 10\n",
            "Mutable argument after modification: [1, 2, 3, 4]\n",
            "Immutable argument after modification: 15\n",
            "\n",
            "After function call:\n",
            "Mutable argument: [1, 2, 3, 4]\n",
            "Immutable argument: 10\n"
          ]
        }
      ]
    },
    {
      "cell_type": "markdown",
      "source": [
        "# **8.Write a program to demonstrate the use of logical operators**"
      ],
      "metadata": {
        "id": "Fzk8SvsUPDx6"
      }
    },
    {
      "cell_type": "code",
      "source": [
        "a = True\n",
        "b = False\n",
        "\n",
        "# Logical AND\n",
        "print(a and b)\n",
        "\n",
        "# Logical OR\n",
        "print(a or b)\n",
        "\n",
        "# Logical NOT\n",
        "print(not a)"
      ],
      "metadata": {
        "colab": {
          "base_uri": "https://localhost:8080/"
        },
        "id": "E4ynoe4wPJnV",
        "outputId": "eb72ff49-3a12-4621-f7ce-18b81e43b76f"
      },
      "execution_count": 13,
      "outputs": [
        {
          "output_type": "stream",
          "name": "stdout",
          "text": [
            "False\n",
            "True\n",
            "False\n"
          ]
        }
      ]
    },
    {
      "cell_type": "markdown",
      "source": [
        "# **9.Write a Python program to convert user input from string to integer, float, and boolean types**"
      ],
      "metadata": {
        "id": "78MruSYUPqNq"
      }
    },
    {
      "cell_type": "code",
      "source": [
        "user_input = input(\"Enter a number: \")\n",
        "\n",
        "# Convert input to different types\n",
        "int_value = int(user_input)\n",
        "float_value = float(user_input)\n",
        "bool_value = bool(user_input)\n",
        "\n",
        "print(f\"Integer: {int_value}\")\n",
        "print(f\"Float: {float_value}\")\n",
        "print(f\"Boolean: {bool_value}\")\n"
      ],
      "metadata": {
        "colab": {
          "base_uri": "https://localhost:8080/"
        },
        "id": "pRnK7os4Pz0I",
        "outputId": "01dc6ffb-0b82-4021-ffef-870814de26c9"
      },
      "execution_count": 16,
      "outputs": [
        {
          "output_type": "stream",
          "name": "stdout",
          "text": [
            "Enter a number: 54\n",
            "Integer: 54\n",
            "Float: 54.0\n",
            "Boolean: True\n"
          ]
        }
      ]
    },
    {
      "cell_type": "markdown",
      "source": [
        "# **10.Write code to demonstrate type casting with list elements**"
      ],
      "metadata": {
        "id": "psinPtI8QO8v"
      }
    },
    {
      "cell_type": "code",
      "source": [
        "# Creating a list with elements of different types\n",
        "my_list = [\"1\", \"2.5\", \"True\"]\n",
        "\n",
        "# Converting list elements to int, float, and boolean\n",
        "int_list = [int(x) for x in my_list if x.isdigit()]\n",
        "float_list = [float(x) for x in my_list if '.' in x]\n",
        "bool_list = [bool(x) for x in my_list]\n",
        "\n",
        "print(\"Integer list:\", int_list)\n",
        "print(\"Float list:\", float_list)\n",
        "print(\"Boolean list:\", bool_list)\n"
      ],
      "metadata": {
        "colab": {
          "base_uri": "https://localhost:8080/"
        },
        "id": "3DDUEEwIQX9s",
        "outputId": "8ed088d7-187c-4c95-ad07-c05b3b54c30c"
      },
      "execution_count": 18,
      "outputs": [
        {
          "output_type": "stream",
          "name": "stdout",
          "text": [
            "Integer list: [1]\n",
            "Float list: [2.5]\n",
            "Boolean list: [True, True, True]\n"
          ]
        }
      ]
    },
    {
      "cell_type": "markdown",
      "source": [
        "# **11.Write a program that checks if a number is positive, negative, or zero**"
      ],
      "metadata": {
        "id": "WpiW7pLIRVVG"
      }
    },
    {
      "cell_type": "code",
      "source": [
        "num = float(input(\"Enter a number: \"))\n",
        "\n",
        "if num > 0:\n",
        "    print(f\"{num} is positive.\")\n",
        "elif num < 0:\n",
        "    print(f\"{num} is negative.\")\n",
        "else:\n",
        "    print(f\"{num} is zero.\")\n"
      ],
      "metadata": {
        "colab": {
          "base_uri": "https://localhost:8080/"
        },
        "id": "En8yksh2RZQN",
        "outputId": "9a45b7fe-6b9b-465f-c9f2-17bca25d077c"
      },
      "execution_count": 19,
      "outputs": [
        {
          "output_type": "stream",
          "name": "stdout",
          "text": [
            "Enter a number: 34\n",
            "34.0 is positive.\n"
          ]
        }
      ]
    },
    {
      "cell_type": "markdown",
      "source": [
        "# **12.Write a for loop to print numbers from 1 to 100**"
      ],
      "metadata": {
        "id": "pnYm_wdIRh1R"
      }
    },
    {
      "cell_type": "code",
      "source": [
        "for i in range(1, 101):\n",
        "    print(i)\n"
      ],
      "metadata": {
        "colab": {
          "base_uri": "https://localhost:8080/"
        },
        "id": "QV7H3h-qRrVn",
        "outputId": "0b39bffc-6bd7-47ad-8280-bc1476836dd0"
      },
      "execution_count": 22,
      "outputs": [
        {
          "output_type": "stream",
          "name": "stdout",
          "text": [
            "1\n",
            "2\n",
            "3\n",
            "4\n",
            "5\n",
            "6\n",
            "7\n",
            "8\n",
            "9\n",
            "10\n",
            "11\n",
            "12\n",
            "13\n",
            "14\n",
            "15\n",
            "16\n",
            "17\n",
            "18\n",
            "19\n",
            "20\n",
            "21\n",
            "22\n",
            "23\n",
            "24\n",
            "25\n",
            "26\n",
            "27\n",
            "28\n",
            "29\n",
            "30\n",
            "31\n",
            "32\n",
            "33\n",
            "34\n",
            "35\n",
            "36\n",
            "37\n",
            "38\n",
            "39\n",
            "40\n",
            "41\n",
            "42\n",
            "43\n",
            "44\n",
            "45\n",
            "46\n",
            "47\n",
            "48\n",
            "49\n",
            "50\n",
            "51\n",
            "52\n",
            "53\n",
            "54\n",
            "55\n",
            "56\n",
            "57\n",
            "58\n",
            "59\n",
            "60\n",
            "61\n",
            "62\n",
            "63\n",
            "64\n",
            "65\n",
            "66\n",
            "67\n",
            "68\n",
            "69\n",
            "70\n",
            "71\n",
            "72\n",
            "73\n",
            "74\n",
            "75\n",
            "76\n",
            "77\n",
            "78\n",
            "79\n",
            "80\n",
            "81\n",
            "82\n",
            "83\n",
            "84\n",
            "85\n",
            "86\n",
            "87\n",
            "88\n",
            "89\n",
            "90\n",
            "91\n",
            "92\n",
            "93\n",
            "94\n",
            "95\n",
            "96\n",
            "97\n",
            "98\n",
            "99\n",
            "100\n"
          ]
        }
      ]
    },
    {
      "cell_type": "markdown",
      "source": [],
      "metadata": {
        "id": "DEC_mLwWO5fc"
      }
    },
    {
      "cell_type": "markdown",
      "source": [
        "# **13.Write a Python program to find the sum of all even numbers between 1 and 500**"
      ],
      "metadata": {
        "id": "nEo6vuTlSEmU"
      }
    },
    {
      "cell_type": "code",
      "source": [
        "even_sum = sum(i for i in range(1, 501) if i % 2 == 0)\n",
        "print(f\"The sum of all even numbers between 1 and 500 is {even_sum}\")\n"
      ],
      "metadata": {
        "colab": {
          "base_uri": "https://localhost:8080/"
        },
        "id": "XWJJ67GySMj_",
        "outputId": "dcb353a8-5b92-46de-fecb-5fda0dd455da"
      },
      "execution_count": 23,
      "outputs": [
        {
          "output_type": "stream",
          "name": "stdout",
          "text": [
            "The sum of all even numbers between 1 and 500 is 62750\n"
          ]
        }
      ]
    },
    {
      "cell_type": "markdown",
      "source": [
        "# **14.Write a program to reverse a string using a while loop**"
      ],
      "metadata": {
        "id": "ljVda9kISas1"
      }
    },
    {
      "cell_type": "code",
      "source": [
        "input_string = input(\"Enter a string to reverse: \")\n",
        "reversed_string = \"\"\n",
        "index = len(input_string) - 1\n",
        "\n",
        "while index >= 0:\n",
        "    reversed_string += input_string[index]\n",
        "    index -= 1\n",
        "\n",
        "print(f\"Reversed string: {reversed_string}\")\n"
      ],
      "metadata": {
        "colab": {
          "base_uri": "https://localhost:8080/"
        },
        "id": "eCYxKsPMScuo",
        "outputId": "5829fad3-c37c-488c-8eca-ddcd37ec538c"
      },
      "execution_count": 25,
      "outputs": [
        {
          "output_type": "stream",
          "name": "stdout",
          "text": [
            "Enter a string to reverse: nikita\n",
            "Reversed string: atikin\n"
          ]
        }
      ]
    },
    {
      "cell_type": "markdown",
      "source": [
        "# **15.Calculate the Factorial of a Number Using a while Loop**"
      ],
      "metadata": {
        "id": "Y-IG-JLqS5Gw"
      }
    },
    {
      "cell_type": "code",
      "source": [
        "num = int(input(\"Enter a number to calculate its factorial: \"))\n",
        "factorial = 1\n",
        "while num > 1:\n",
        "    factorial *= num\n",
        "    num -= 1\n",
        "\n",
        "print(f\"Factorial: {factorial}\")\n"
      ],
      "metadata": {
        "colab": {
          "base_uri": "https://localhost:8080/"
        },
        "id": "ZgoVwWtuS_SW",
        "outputId": "b733eee8-5743-4bbf-8a38-7ca056a352e9"
      },
      "execution_count": 27,
      "outputs": [
        {
          "output_type": "stream",
          "name": "stdout",
          "text": [
            "Enter a number to calculate its factorial: 7\n",
            "Factorial: 5040\n"
          ]
        }
      ]
    },
    {
      "cell_type": "markdown",
      "source": [
        "# **END**"
      ],
      "metadata": {
        "id": "bhqTIK1QF08Q"
      }
    }
  ]
}