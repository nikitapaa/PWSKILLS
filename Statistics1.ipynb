{
  "nbformat": 4,
  "nbformat_minor": 0,
  "metadata": {
    "colab": {
      "provenance": []
    },
    "kernelspec": {
      "name": "python3",
      "display_name": "Python 3"
    },
    "language_info": {
      "name": "python"
    }
  },
  "cells": [
    {
      "cell_type": "markdown",
      "source": [
        "Q/A"
      ],
      "metadata": {
        "id": "fS0AI4qDYmsk"
      }
    },
    {
      "cell_type": "markdown",
      "source": [
        "\n",
        "1. **What is a random variable in probability theory?**  \n",
        "   A random variable is a variable that takes on different numerical values based on the outcome of a random event.\n",
        "\n",
        "2. **What are the types of random variables?**  \n",
        "   Random variables are classified as **discrete** or **continuous**.\n",
        "\n",
        "3. **What is the difference between discrete and continuous distributions?**  \n",
        "   Discrete distributions describe variables that take on countable values, while continuous distributions describe variables that take on any value within an interval.\n",
        "\n",
        "4. **What are probability distribution functions (PDF)?**  \n",
        "   A probability distribution function (PDF) gives the probability that a continuous random variable falls within a particular range of values.\n",
        "\n",
        "5. **How do cumulative distribution functions (CDF) differ from probability distribution functions (PDF)?**  \n",
        "   A CDF gives the probability that a variable is less than or equal to a value, while a PDF shows the likelihood of the variable taking on a specific value (for discrete) or falling within an interval (for continuous).\n",
        "\n",
        "6. **What is a discrete uniform distribution?**  \n",
        "   It’s a distribution where each outcome in a finite set has an equal probability of occurring.\n",
        "\n",
        "7. **What are the key properties of a Bernoulli distribution?**  \n",
        "   It models a single trial with two outcomes (success/failure) and has one parameter, \\( p \\), the probability of success.\n",
        "\n",
        "8. **What is the binomial distribution, and how is it used in probability?**  \n",
        "   The binomial distribution models the number of successes in a fixed number of independent Bernoulli trials.\n",
        "\n",
        "9. **What is the Poisson distribution and where is it applied?**  \n",
        "   It models the number of events occurring in a fixed interval of time or space when the events happen independently at a constant rate.\n",
        "\n",
        "10. **What is a continuous uniform distribution?**  \n",
        "   A distribution where all outcomes in a continuous range are equally likely.\n",
        "\n",
        "11. **What are the characteristics of a normal distribution?**  \n",
        "   It's symmetric, bell-shaped, centered at the mean, and described by its mean and standard deviation.\n",
        "\n",
        "12. **What is the standard normal distribution, and why is it important?**  \n",
        "   It’s a normal distribution with a mean of 0 and standard deviation of 1, used for standardizing data.\n",
        "\n",
        "13. **What is the Central Limit Theorem (CLT), and why is it critical in statistics?**  \n",
        "   CLT states that the sampling distribution of the sample mean approaches a normal distribution as the sample size increases, regardless of the population’s distribution.\n",
        "\n",
        "14. **How does the Central Limit Theorem relate to the normal distribution?**  \n",
        "   It justifies using the normal distribution to approximate the behavior of sample means for large sample sizes.\n",
        "\n",
        "15. **What is the application of Z statistics in hypothesis testing?**  \n",
        "   Z statistics help determine how far a sample statistic is from the population mean under the null hypothesis, expressed in standard deviations.\n",
        "\n",
        "16. **How do you calculate a Z-score, and what does it represent?**  \n",
        "   \\( Z = \\frac{X - \\mu}{\\sigma} \\); it represents how many standard deviations a value is from the mean.\n",
        "\n",
        "17. **What are point estimates and interval estimates in statistics?**  \n",
        "   A point estimate gives a single value as an estimate of a parameter, while an interval estimate gives a range within which the parameter is expected to lie.\n",
        "\n",
        "18. **What is the significance of confidence intervals in statistical analysis?**  \n",
        "   They provide a range of values that likely contain the true population parameter with a certain confidence level.\n",
        "\n",
        "19. **What is the relationship between a Z-score and a confidence interval?**  \n",
        "   Z-scores determine the margin of error in confidence intervals when the population standard deviation is known.\n",
        "\n",
        "20. **How are Z-scores used to compare different distributions?**  \n",
        "   By standardizing values, Z-scores allow comparison across different distributions with varying means and standard deviations.\n",
        "\n",
        "21. **What are the assumptions for applying the Central Limit Theorem?**  \n",
        "   Samples must be independent, identically distributed, and sufficiently large (n ≥ 30 is a common rule of thumb).\n",
        "\n",
        "22. **What is the concept of expected value in a probability distribution?**  \n",
        "   It’s the long-run average value of a random variable, calculated as the sum (or integral) of all possible values weighted by their probabilities.\n",
        "\n",
        "23. **How does a probability distribution relate to the expected outcome of a random variable?**  \n",
        "   The probability distribution defines the likelihood of each outcome, and the expected value is the weighted average based on this distribution."
      ],
      "metadata": {
        "id": "EoK4H727Wb5F"
      }
    },
    {
      "cell_type": "code",
      "source": [],
      "metadata": {
        "id": "emv0vW7dYlbU"
      },
      "execution_count": null,
      "outputs": []
    },
    {
      "cell_type": "code",
      "source": [],
      "metadata": {
        "id": "TalfUvnfWnFe"
      },
      "execution_count": null,
      "outputs": []
    }
  ]
}