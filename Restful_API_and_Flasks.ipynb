{
  "nbformat": 4,
  "nbformat_minor": 0,
  "metadata": {
    "colab": {
      "provenance": []
    },
    "kernelspec": {
      "name": "python3",
      "display_name": "Python 3"
    },
    "language_info": {
      "name": "python"
    }
  },
  "cells": [
    {
      "cell_type": "markdown",
      "source": [
        "Q/A"
      ],
      "metadata": {
        "id": "LkzRRtAQbIT-"
      }
    },
    {
      "cell_type": "markdown",
      "source": [
        "1. **What is a RESTful API?**  \n",
        "   A RESTful API (Representational State Transfer API) is a web service that follows REST principles, using HTTP methods to interact with resources in a stateless manner.  \n",
        "\n",
        "2. **Explain the concept of API specification.**  \n",
        "   An API specification defines the rules, endpoints, request/response formats, authentication methods, and data structures of an API to ensure consistency and interoperability.  \n",
        "\n",
        "3. **What is Flask, and why is it popular for building APIs?**  \n",
        "   Flask is a lightweight Python web framework used for building APIs due to its simplicity, flexibility, and support for extensions like Flask-RESTful.  \n",
        "\n",
        "4. **What is routing in Flask?**  \n",
        "   Routing in Flask is the process of defining URL patterns that map to specific view functions to handle requests.  \n",
        "\n",
        "5. **How do you create a simple Flask application?**  \n",
        "   Create a Flask app by initializing an instance of `Flask`, defining routes with `@app.route()`, and running the app using `app.run()`.  \n",
        "\n",
        "6. **What are HTTP methods used in RESTful APIs?**  \n",
        "   Common HTTP methods include GET (retrieve data), POST (create data), PUT (update data), PATCH (partially update data), and DELETE (remove data).  \n",
        "\n",
        "7. **What is the purpose of the @app.route() decorator in Flask?**  \n",
        "   The `@app.route()` decorator defines routes, mapping specific URLs to view functions that handle HTTP requests.  \n",
        "\n",
        "8. **What is the difference between GET and POST HTTP methods?**  \n",
        "   GET retrieves data from a server, while POST sends data to create or update resources.  \n",
        "\n",
        "9. **How do you handle errors in Flask APIs?**  \n",
        "   Use `@app.errorhandler()`, `abort()`, or custom error responses to manage exceptions and return appropriate HTTP status codes.  \n",
        "\n",
        "10. **How do you connect Flask to a SQL database?**  \n",
        "   Use Flask-SQLAlchemy to configure a database connection by setting `SQLALCHEMY_DATABASE_URI` and initializing a `SQLAlchemy` instance.  \n",
        "\n",
        "11. **What is the role of Flask-SQLAlchemy?**  \n",
        "   Flask-SQLAlchemy is an ORM that simplifies database interactions using Python classes instead of raw SQL queries.  \n",
        "\n",
        "12. **What are Flask blueprints, and how are they useful?**  \n",
        "   Blueprints enable modular application design by allowing different parts of an app to be structured separately and registered with the main app.  \n",
        "\n",
        "13. **What is the purpose of Flask's request object?**  \n",
        "   The `request` object provides access to request data, including form inputs, JSON payloads, headers, and query parameters.  \n",
        "\n",
        "14. **How do you create a RESTful API endpoint using Flask?**  \n",
        "   Define a route with `@app.route()`, specify an HTTP method, and return a JSON response using `jsonify()`.  \n",
        "\n",
        "15. **What is the purpose of Flask's jsonify() function?**  \n",
        "   `jsonify()` converts Python dictionaries into JSON responses, ensuring proper content-type handling.  \n",
        "\n",
        "16. **Explain Flask's url_for() function.**  \n",
        "   `url_for()` generates URLs dynamically for view functions, preventing hardcoded links and improving maintainability.  \n",
        "\n",
        "17. **How does Flask handle static files (CSS, JavaScript, etc.)?**  \n",
        "   Flask serves static files from the `static/` directory, accessible via `/static/<filename>`.  \n",
        "\n",
        "18. **What is an API specification, and how does it help in building a Flask API?**  \n",
        "   An API specification defines endpoints, data formats, and authentication methods, ensuring structured API design and better documentation.  \n",
        "\n",
        "19. **What are HTTP status codes, and why are they important in a Flask API?**  \n",
        "   HTTP status codes indicate the result of a request (e.g., 200 OK, 404 Not Found, 500 Internal Server Error), helping clients interpret API responses.  \n",
        "\n",
        "20. **How do you handle POST requests in Flask?**  \n",
        "   Use the `request` object to extract JSON or form data from a POST request and process it in a view function.  \n",
        "\n",
        "21. **How would you secure a Flask API?**  \n",
        "   Secure a Flask API using authentication (JWT, OAuth), input validation, HTTPS, rate limiting, and error handling.  \n",
        "\n",
        "22. **What is the significance of the Flask-RESTful extension?**  \n",
        "   Flask-RESTful simplifies API development by providing class-based views, request parsing, and improved response handling.  \n",
        "\n",
        "23. **What is the role of Flask's session object?**  \n",
        "   The `session` object stores user session data using secure cookies, allowing stateful interactions across requests."
      ],
      "metadata": {
        "id": "QS0YqjcCbKWp"
      }
    },
    {
      "cell_type": "markdown",
      "source": [
        "Practicals"
      ],
      "metadata": {
        "id": "G86g4e3FcaRy"
      }
    },
    {
      "cell_type": "markdown",
      "source": [
        "1. How do you create a basic Flask application?"
      ],
      "metadata": {
        "id": "dAZBUE98dCML"
      }
    },
    {
      "cell_type": "code",
      "source": [
        "from flask import Flask\n",
        "\n",
        "app = Flask(__name__)\n",
        "\n",
        "@app.route('/')\n",
        "def home():\n",
        "    return \"Hello, Flask!\"\n",
        "\n",
        "if __name__ == '__main__':\n",
        "    app.run(debug=True)\n"
      ],
      "metadata": {
        "colab": {
          "base_uri": "https://localhost:8080/"
        },
        "id": "Yms5ZqtbdHF4",
        "outputId": "1cb5185c-4913-434e-aa79-82860208c0a9"
      },
      "execution_count": null,
      "outputs": [
        {
          "metadata": {
            "tags": null
          },
          "name": "stdout",
          "output_type": "stream",
          "text": [
            " * Serving Flask app '__main__'\n",
            " * Debug mode: on\n"
          ]
        },
        {
          "metadata": {
            "tags": null
          },
          "name": "stderr",
          "output_type": "stream",
          "text": [
            "INFO:werkzeug:\u001b[31m\u001b[1mWARNING: This is a development server. Do not use it in a production deployment. Use a production WSGI server instead.\u001b[0m\n",
            " * Running on http://127.0.0.1:5000\n",
            "INFO:werkzeug:\u001b[33mPress CTRL+C to quit\u001b[0m\n",
            "INFO:werkzeug: * Restarting with stat\n"
          ]
        }
      ]
    },
    {
      "cell_type": "markdown",
      "source": [
        "2. How do you serve static files like images or CSS in Flask?"
      ],
      "metadata": {
        "id": "kO8trAyudPQE"
      }
    },
    {
      "cell_type": "code",
      "source": [
        "<link rel=\"stylesheet\" href=\"{{ url_for('static', filename='styles.css') }}\">\n",
        "<img src=\"{{ url_for('static', filename='image.png') }}\" alt=\"Image\">"
      ],
      "metadata": {
        "id": "vT2WyVf1dU1l"
      },
      "execution_count": null,
      "outputs": []
    },
    {
      "cell_type": "markdown",
      "source": [
        "3. How do you define different routes with different HTTP methods in Flask?"
      ],
      "metadata": {
        "id": "teCNiW2JdW0N"
      }
    },
    {
      "cell_type": "code",
      "source": [
        "from flask import request\n",
        "\n",
        "@app.route('/submit', methods=['GET', 'POST'])\n",
        "def submit():\n",
        "    if request.method == 'POST':\n",
        "        return \"Form submitted!\"\n",
        "    return \"Send a POST request to submit.\"\n"
      ],
      "metadata": {
        "id": "GxFMGaUOfiVa"
      },
      "execution_count": null,
      "outputs": []
    },
    {
      "cell_type": "markdown",
      "source": [
        "4. How do you render HTML templates in Flask?"
      ],
      "metadata": {
        "id": "Ng6tp6SLflSf"
      }
    },
    {
      "cell_type": "code",
      "source": [
        "from flask import render_template\n",
        "\n",
        "@app.route('/hello')\n",
        "def hello():\n",
        "    return render_template('hello.html', name=\"Flask User\")\n"
      ],
      "metadata": {
        "id": "whULKatFfyq9"
      },
      "execution_count": null,
      "outputs": []
    },
    {
      "cell_type": "markdown",
      "source": [
        "5. How can you generate URLs for routes in Flask using url_for?"
      ],
      "metadata": {
        "id": "4JJrCcLjf7pp"
      }
    },
    {
      "cell_type": "code",
      "source": [
        "from flask import url_for\n",
        "\n",
        "@app.route('/profile/<username>')\n",
        "def profile(username):\n",
        "    return f\"Profile page of {username}\"\n",
        "\n",
        "with app.test_request_context():\n",
        "    print(url_for('profile', username='john'))\n"
      ],
      "metadata": {
        "id": "_T-y1xhtgALg"
      },
      "execution_count": null,
      "outputs": []
    },
    {
      "cell_type": "markdown",
      "source": [
        "6. How do you handle forms in Flask?"
      ],
      "metadata": {
        "id": "JtiUfPg8gCVf"
      }
    },
    {
      "cell_type": "code",
      "source": [
        "from flask import request\n",
        "\n",
        "@app.route('/form', methods=['POST'])\n",
        "def form():\n",
        "    name = request.form['name']\n",
        "    return f\"Hello, {name}!\"\n"
      ],
      "metadata": {
        "id": "4F7JwtYAgG--"
      },
      "execution_count": null,
      "outputs": []
    },
    {
      "cell_type": "markdown",
      "source": [
        "7. How can you validate form data in Flask?"
      ],
      "metadata": {
        "id": "udaLnFPLgJhY"
      }
    },
    {
      "cell_type": "code",
      "source": [
        "from flask_wtf import FlaskForm\n",
        "from wtforms import StringField, SubmitField\n",
        "from wtforms.validators import DataRequired\n",
        "\n",
        "class MyForm(FlaskForm):\n",
        "    name = StringField('Name', validators=[DataRequired()])\n",
        "    submit = SubmitField('Submit')\n"
      ],
      "metadata": {
        "id": "HvFiQM85gOic"
      },
      "execution_count": null,
      "outputs": []
    },
    {
      "cell_type": "markdown",
      "source": [
        "8. How do you manage sessions in Flask?"
      ],
      "metadata": {
        "id": "8wKrUvmQgQyt"
      }
    },
    {
      "cell_type": "code",
      "source": [
        "from flask import session\n",
        "\n",
        "app.secret_key = 'your_secret_key'\n",
        "\n",
        "@app.route('/login')\n",
        "def login():\n",
        "    session['user'] = 'John'\n",
        "    return \"User logged in.\"\n",
        "\n",
        "@app.route('/logout')\n",
        "def logout():\n",
        "    session.pop('user', None)\n",
        "    return \"User logged out.\"\n"
      ],
      "metadata": {
        "id": "2m7dWmpngVY9"
      },
      "execution_count": null,
      "outputs": []
    },
    {
      "cell_type": "markdown",
      "source": [
        "9. How do you redirect to a different route in Flask?"
      ],
      "metadata": {
        "id": "-khRRVLXgdjk"
      }
    },
    {
      "cell_type": "code",
      "source": [
        "from flask import redirect\n",
        "\n",
        "@app.route('/old-route')\n",
        "def old_route():\n",
        "    return redirect(url_for('new_route'))\n",
        "\n",
        "@app.route('/new-route')\n",
        "def new_route():\n",
        "    return \"This is the new route.\"\n"
      ],
      "metadata": {
        "id": "kRgtXH1ZggQh"
      },
      "execution_count": null,
      "outputs": []
    },
    {
      "cell_type": "markdown",
      "source": [
        "10. How do you handle errors in Flask (e.g., 404)?"
      ],
      "metadata": {
        "id": "v9L91xAFgisx"
      }
    },
    {
      "cell_type": "code",
      "source": [
        "@app.errorhandler(404)\n",
        "def not_found(error):\n",
        "    return \"Page not found!\", 404\n"
      ],
      "metadata": {
        "id": "C59cIx-wgmsO"
      },
      "execution_count": null,
      "outputs": []
    },
    {
      "cell_type": "markdown",
      "source": [
        "11. How do you structure a Flask app using Blueprints?"
      ],
      "metadata": {
        "id": "RmafApd4golD"
      }
    },
    {
      "cell_type": "code",
      "source": [
        "from flask import Blueprint\n",
        "\n",
        "my_blueprint = Blueprint('my_blueprint', __name__)\n",
        "\n",
        "@my_blueprint.route('/hello')\n",
        "def hello():\n",
        "    return \"Hello from Blueprint!\"\n",
        "\n",
        "app.register_blueprint(my_blueprint)\n"
      ],
      "metadata": {
        "id": "a7beMrqVoIJT"
      },
      "execution_count": null,
      "outputs": []
    },
    {
      "cell_type": "markdown",
      "source": [
        "12. How do you define a custom Jinja filter in Flask?"
      ],
      "metadata": {
        "id": "xa2xCyAvoLxl"
      }
    },
    {
      "cell_type": "code",
      "source": [
        "@app.template_filter('reverse')\n",
        "def reverse_filter(s):\n",
        "    return s[::-1]\n"
      ],
      "metadata": {
        "id": "yYnn3mT7oPHY"
      },
      "execution_count": null,
      "outputs": []
    },
    {
      "cell_type": "markdown",
      "source": [
        "13. How can you redirect with query parameters in Flask?"
      ],
      "metadata": {
        "id": "PrbZv7fjoRzm"
      }
    },
    {
      "cell_type": "code",
      "source": [
        "from flask import redirect, url_for\n",
        "\n",
        "@app.route('/redirect')\n",
        "def redirect_with_params():\n",
        "    return redirect(url_for('new_route', key='value'))\n"
      ],
      "metadata": {
        "id": "pZFKKSSJoZcS"
      },
      "execution_count": null,
      "outputs": []
    },
    {
      "cell_type": "markdown",
      "source": [
        "14. How do you return JSON responses in Flask?"
      ],
      "metadata": {
        "id": "OgsV6HiUobs4"
      }
    },
    {
      "cell_type": "code",
      "source": [
        "from flask import jsonify\n",
        "\n",
        "@app.route('/api/data')\n",
        "def api_data():\n",
        "    return jsonify({\"name\": \"John\", \"age\": 30})\n"
      ],
      "metadata": {
        "id": "5Pf6J-EWofxP"
      },
      "execution_count": null,
      "outputs": []
    },
    {
      "cell_type": "markdown",
      "source": [
        "15. How do you capture URL parameters in Flask?"
      ],
      "metadata": {
        "id": "q1dgq50Soh6f"
      }
    },
    {
      "cell_type": "code",
      "source": [
        "@app.route('/user/<username>')\n",
        "def show_user(username):\n",
        "    return f\"Hello, {username}!\"\n"
      ],
      "metadata": {
        "id": "Na9pSdTfoldB"
      },
      "execution_count": null,
      "outputs": []
    }
  ]
}